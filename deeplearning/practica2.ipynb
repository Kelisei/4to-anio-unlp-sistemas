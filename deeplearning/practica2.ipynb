{
 "cells": [
  {
   "attachments": {
    "image.png": {
     "image/png": "[encoded data removed]"
    }
   },
   "cell_type": "markdown",
   "id": "093e55a5",
   "metadata": {},
   "source": [
    "# Ejercicio 1\n",
    "El archivo Hawks.csv contiene mediciones de casi 900 aves de tres especies diferentes. Los datos registrados\n",
    "son los siguientes:\n",
    "\n",
    "● Epecies. Es la etiqueta de clase e indica la especie de cada gavilán: gavilanes de Cooper (CH),\n",
    "gavilanes colirrojos (RT) y gavilanes rastreros (SS).\n",
    "\n",
    "● Año. Indica el año en que se avistó el ave.\n",
    "\n",
    "● Hallux. Indica la medida en milímetros del hallux (el dedo posterior del pie, que poseen todas las\n",
    "aves cazadoras para sujetar mejor a sus presas).\n",
    "\n",
    "● Ala. Indica la longitud en milímetros de la pluma más larga del ala.\n",
    "\n",
    "● Peso. Indica el peso del ave en gramos.\n",
    "\n",
    "● Cola. Indica la longitud de la cola del ave en milímetros.\n",
    "\n",
    "a) Calcule la correlación lineal entre los atributos Ala y Cola. Indique la intensidad de la correlación (no hay\n",
    "correlación/débil/fuerte) y el tipo (positiva/negativa)\n",
    "\n",
    "![practica2tabla1.png](attachment:image.png)\n",
    "\n",
    "b) Complete el cuadro con los valores del atributo Hallux antes y después de normalizarlos utilizando media\n",
    "y desvío. \n",
    "\n",
    "![alt text](image-1.png)\n",
    "\n",
    "Compare los valores obtenidos e indique el valor de verdad de las siguientes afirmaciones:\n",
    "\n",
    "I. El valor de Q2 normalizado permite afirmar que la media y la mediana tienen valores cercanos.\n",
    "\n",
    "II. El máximo valor de Hallux se encuentra a más de 9 desvíos por encima de la media.\n",
    "\n",
    "III. Un hallux que mida más de 600 mm es considerado atípico extremo.\n",
    "\n",
    "IV. Un valor normalizado del atributo “hallux” de 2 se considerará un valor atípico extremo.\n",
    "\n",
    "V. En un gavilán es atípico que su hallux mida menos de 100 mm."
   ]
  },
  {
   "cell_type": "code",
   "execution_count": 4,
   "id": "7ffd77ce",
   "metadata": {},
   "outputs": [
    {
     "data": {
      "text/html": [
       "<div>\n",
       "<style scoped>\n",
       "    .dataframe tbody tr th:only-of-type {\n",
       "        vertical-align: middle;\n",
       "    }\n",
       "\n",
       "    .dataframe tbody tr th {\n",
       "        vertical-align: top;\n",
       "    }\n",
       "\n",
       "    .dataframe thead th {\n",
       "        text-align: right;\n",
       "    }\n",
       "</style>\n",
       "<table border=\"1\" class=\"dataframe\">\n",
       "  <thead>\n",
       "    <tr style=\"text-align: right;\">\n",
       "      <th></th>\n",
       "      <th>Año</th>\n",
       "      <th>Especie</th>\n",
       "      <th>Ala</th>\n",
       "      <th>Peso</th>\n",
       "      <th>Cola</th>\n",
       "      <th>Hallux</th>\n",
       "    </tr>\n",
       "  </thead>\n",
       "  <tbody>\n",
       "    <tr>\n",
       "      <th>0</th>\n",
       "      <td>1994</td>\n",
       "      <td>RT</td>\n",
       "      <td>2770</td>\n",
       "      <td>9400</td>\n",
       "      <td>218</td>\n",
       "      <td>304</td>\n",
       "    </tr>\n",
       "    <tr>\n",
       "      <th>1</th>\n",
       "      <td>1997</td>\n",
       "      <td>RT</td>\n",
       "      <td>3730</td>\n",
       "      <td>9140</td>\n",
       "      <td>221</td>\n",
       "      <td>304</td>\n",
       "    </tr>\n",
       "    <tr>\n",
       "      <th>2</th>\n",
       "      <td>2000</td>\n",
       "      <td>RT</td>\n",
       "      <td>3790</td>\n",
       "      <td>10000</td>\n",
       "      <td>217</td>\n",
       "      <td>322</td>\n",
       "    </tr>\n",
       "    <tr>\n",
       "      <th>3</th>\n",
       "      <td>2000</td>\n",
       "      <td>RT</td>\n",
       "      <td>3920</td>\n",
       "      <td>11850</td>\n",
       "      <td>229</td>\n",
       "      <td>330</td>\n",
       "    </tr>\n",
       "    <tr>\n",
       "      <th>4</th>\n",
       "      <td>2002</td>\n",
       "      <td>RT</td>\n",
       "      <td>3650</td>\n",
       "      <td>11250</td>\n",
       "      <td>213</td>\n",
       "      <td>293</td>\n",
       "    </tr>\n",
       "    <tr>\n",
       "      <th>...</th>\n",
       "      <td>...</td>\n",
       "      <td>...</td>\n",
       "      <td>...</td>\n",
       "      <td>...</td>\n",
       "      <td>...</td>\n",
       "      <td>...</td>\n",
       "    </tr>\n",
       "    <tr>\n",
       "      <th>888</th>\n",
       "      <td>2003</td>\n",
       "      <td>RT</td>\n",
       "      <td>3620</td>\n",
       "      <td>8400</td>\n",
       "      <td>206</td>\n",
       "      <td>261</td>\n",
       "    </tr>\n",
       "    <tr>\n",
       "      <th>889</th>\n",
       "      <td>2003</td>\n",
       "      <td>SS</td>\n",
       "      <td>1900</td>\n",
       "      <td>2000</td>\n",
       "      <td>157</td>\n",
       "      <td>150</td>\n",
       "    </tr>\n",
       "    <tr>\n",
       "      <th>890</th>\n",
       "      <td>2003</td>\n",
       "      <td>SS</td>\n",
       "      <td>1970</td>\n",
       "      <td>1850</td>\n",
       "      <td>157</td>\n",
       "      <td>156</td>\n",
       "    </tr>\n",
       "    <tr>\n",
       "      <th>891</th>\n",
       "      <td>2003</td>\n",
       "      <td>RT</td>\n",
       "      <td>3600</td>\n",
       "      <td>13250</td>\n",
       "      <td>224</td>\n",
       "      <td>306</td>\n",
       "    </tr>\n",
       "    <tr>\n",
       "      <th>892</th>\n",
       "      <td>2003</td>\n",
       "      <td>RT</td>\n",
       "      <td>3690</td>\n",
       "      <td>8600</td>\n",
       "      <td>207</td>\n",
       "      <td>280</td>\n",
       "    </tr>\n",
       "  </tbody>\n",
       "</table>\n",
       "<p>893 rows × 6 columns</p>\n",
       "</div>"
      ],
      "text/plain": [
       "      Año Especie   Ala   Peso  Cola  Hallux\n",
       "0    1994      RT  2770   9400   218     304\n",
       "1    1997      RT  3730   9140   221     304\n",
       "2    2000      RT  3790  10000   217     322\n",
       "3    2000      RT  3920  11850   229     330\n",
       "4    2002      RT  3650  11250   213     293\n",
       "..    ...     ...   ...    ...   ...     ...\n",
       "888  2003      RT  3620   8400   206     261\n",
       "889  2003      SS  1900   2000   157     150\n",
       "890  2003      SS  1970   1850   157     156\n",
       "891  2003      RT  3600  13250   224     306\n",
       "892  2003      RT  3690   8600   207     280\n",
       "\n",
       "[893 rows x 6 columns]"
      ]
     },
     "execution_count": 4,
     "metadata": {},
     "output_type": "execute_result"
    }
   ],
   "source": [
    "import pandas as pd\n",
    "\n",
    "df = pd.read_csv(\"csv/hawks.csv\", delimiter=\";\", encoding=\"latin1\")\n",
    "df"
   ]
  },
  {
   "cell_type": "code",
   "execution_count": 5,
   "id": "78c57254",
   "metadata": {},
   "outputs": [
    {
     "data": {
      "text/plain": [
       "np.float64(0.8998883674343939)"
      ]
     },
     "execution_count": 5,
     "metadata": {},
     "output_type": "execute_result"
    }
   ],
   "source": [
    "df['Ala'].corr(df['Cola'])"
   ]
  },
  {
   "cell_type": "markdown",
   "id": "7bfea9ea",
   "metadata": {},
   "source": [
    "## a) Correlacion lineal fuerte"
   ]
  },
  {
   "cell_type": "markdown",
   "id": "bdccaabd",
   "metadata": {},
   "source": [
    "# b)"
   ]
  },
  {
   "cell_type": "code",
   "execution_count": 6,
   "id": "d1d8bd5a",
   "metadata": {},
   "outputs": [
    {
     "name": "stdout",
     "output_type": "stream",
     "text": [
      "Q1 -0.43523004866808146\n",
      "Q3 0.07233028537624991\n",
      "Q2 0.010052943775718458\n",
      "IQR 0.5075603340443313\n",
      "Lower whisker -0.6127204722295961\n",
      "Upper whisker 0.7885197137823616\n",
      "Mild outliers range (left) (-1.9579110508010755, -1.1965705497345784)\n",
      "Mild outliers range (right) (0.8336707864427468, 1.595011287509244)\n",
      "Max value 9.722204366378598\n",
      "Min value -0.6127204722295961\n",
      "\n",
      "Q1 152.0\n",
      "Q3 315.0\n",
      "Q2 295.0\n",
      "IQR 163.0\n",
      "Lower whisker 95\n",
      "Upper whisker 545\n",
      "Mild outliers range (left) (-337.0, -92.5)\n",
      "Mild outliers range (right) (559.5, 804.0)\n",
      "Max value 3414\n",
      "Min value 95\n"
     ]
    }
   ],
   "source": [
    "import sklearn\n",
    "import common\n",
    "\n",
    "df[\"Hallux_norm\"] = sklearn.preprocessing.StandardScaler().fit_transform(df[[\"Hallux\"]])\n",
    "\n",
    "\n",
    "common.print_boxplot_stats(df[\"Hallux_norm\"])\n",
    "print()\n",
    "common.print_boxplot_stats(df[\"Hallux\"])"
   ]
  },
  {
   "cell_type": "markdown",
   "id": "16eed8ce",
   "metadata": {},
   "source": [
    "I) Verdad, dado que Q2 dio 0.01, es bastante cercano a la mediana\n",
    "\n",
    "II) Verdad, esta a mas de 9 de la media.\n",
    "\n",
    "III) Falso:"
   ]
  },
  {
   "cell_type": "code",
   "execution_count": 7,
   "id": "c7a96130",
   "metadata": {},
   "outputs": [
    {
     "name": "stdout",
     "output_type": "stream",
     "text": [
      "[[0.9597824]]\n"
     ]
    }
   ],
   "source": [
    "import pandas as pd\n",
    "from sklearn.preprocessing import StandardScaler\n",
    "\n",
    "# Supongamos df con la columna Hallux\n",
    "scaler = StandardScaler().fit(df[[\"Hallux\"]])\n",
    "\n",
    "# Transformar un valor nuevo respetando el nombre de la columna\n",
    "nuevo_valor = pd.DataFrame([[600]], columns=[\"Hallux\"])\n",
    "nuevo_valor_norm = scaler.transform(nuevo_valor)\n",
    "print(nuevo_valor_norm)"
   ]
  },
  {
   "cell_type": "markdown",
   "id": "b944fe5b",
   "metadata": {},
   "source": [
    "Dado que un Hallux de 600 mm normalizado es 0.959, y tu rango de atípicos extremos comienza en 1.59, la afirmación es Falsa.\n",
    "\n",
    "IV) Verdadero, arriba de 1.59 es extremo\n",
    "\n",
    "V) :"
   ]
  },
  {
   "cell_type": "code",
   "execution_count": 8,
   "id": "fafb58f2",
   "metadata": {},
   "outputs": [
    {
     "name": "stdout",
     "output_type": "stream",
     "text": [
      "[[-0.59715114]]\n"
     ]
    }
   ],
   "source": [
    "nuevo_valor = pd.DataFrame([[100]], columns=[\"Hallux\"])\n",
    "nuevo_valor_norm = scaler.transform(nuevo_valor)\n",
    "print(nuevo_valor_norm)"
   ]
  },
  {
   "cell_type": "markdown",
   "id": "99a340c1",
   "metadata": {},
   "source": [
    "Falso, no es atipico, atipico seria si esta normalizado nos mas bajo de -1.1"
   ]
  },
  {
   "cell_type": "markdown",
   "id": "76e4f14a",
   "metadata": {},
   "source": [
    "# Ejercicio 2\n",
    "El archivo globos.csv contiene el registro de 16 intentos para inflar globos. Los atributos registrados fueron\n",
    "el color del globo, el tamaño, si se estira o no y si la acción de inflarlo fue realizada por un adulto o por un\n",
    "niño. En cada registro se anotó si el globo pudo ser inflado o no.\n",
    "\n",
    "Numerice los atributos de la siguiente forma:\n",
    "\n",
    "● Color = 1 si es rojo y 0 si es amarillo\n",
    "\n",
    "● SeEstira? = 1 para Si y 0 para No\n",
    "\n",
    "● Edad = 1 si es adulto y 0 si es Nene\n",
    "\n",
    "● Tamanio = 0 si es Chico, 0.5 si es mediano y 1 si es grande\n",
    "\n",
    "a) Indique cuáles de los siguientes perceptrones pueden clasificar correctamente todos los ejemplos\n",
    "normalizados del archivo Globos.csv\n",
    "\n",
    "![alt text](image.png)"
   ]
  },
  {
   "cell_type": "code",
   "execution_count": 9,
   "id": "642dedf3",
   "metadata": {},
   "outputs": [
    {
     "data": {
      "text/html": [
       "<div>\n",
       "<style scoped>\n",
       "    .dataframe tbody tr th:only-of-type {\n",
       "        vertical-align: middle;\n",
       "    }\n",
       "\n",
       "    .dataframe tbody tr th {\n",
       "        vertical-align: top;\n",
       "    }\n",
       "\n",
       "    .dataframe thead th {\n",
       "        text-align: right;\n",
       "    }\n",
       "</style>\n",
       "<table border=\"1\" class=\"dataframe\">\n",
       "  <thead>\n",
       "    <tr style=\"text-align: right;\">\n",
       "      <th></th>\n",
       "      <th>Color</th>\n",
       "      <th>Tamanio</th>\n",
       "      <th>Se_estira?</th>\n",
       "      <th>Edad</th>\n",
       "      <th>Inflado?</th>\n",
       "      <th>Color_num</th>\n",
       "      <th>Estira_num</th>\n",
       "      <th>Tamanio_num</th>\n",
       "      <th>Edad_num</th>\n",
       "    </tr>\n",
       "  </thead>\n",
       "  <tbody>\n",
       "    <tr>\n",
       "      <th>0</th>\n",
       "      <td>Amarillo</td>\n",
       "      <td>Chico</td>\n",
       "      <td>Si</td>\n",
       "      <td>Adulto</td>\n",
       "      <td>Si</td>\n",
       "      <td>0</td>\n",
       "      <td>1</td>\n",
       "      <td>0.0</td>\n",
       "      <td>1</td>\n",
       "    </tr>\n",
       "    <tr>\n",
       "      <th>1</th>\n",
       "      <td>Amarillo</td>\n",
       "      <td>Chico</td>\n",
       "      <td>Si</td>\n",
       "      <td>Nene</td>\n",
       "      <td>Si</td>\n",
       "      <td>0</td>\n",
       "      <td>1</td>\n",
       "      <td>0.0</td>\n",
       "      <td>0</td>\n",
       "    </tr>\n",
       "    <tr>\n",
       "      <th>2</th>\n",
       "      <td>Amarillo</td>\n",
       "      <td>Chico</td>\n",
       "      <td>No</td>\n",
       "      <td>Adulto</td>\n",
       "      <td>No</td>\n",
       "      <td>0</td>\n",
       "      <td>0</td>\n",
       "      <td>0.0</td>\n",
       "      <td>1</td>\n",
       "    </tr>\n",
       "    <tr>\n",
       "      <th>3</th>\n",
       "      <td>Amarillo</td>\n",
       "      <td>Chico</td>\n",
       "      <td>No</td>\n",
       "      <td>Nene</td>\n",
       "      <td>No</td>\n",
       "      <td>0</td>\n",
       "      <td>0</td>\n",
       "      <td>0.0</td>\n",
       "      <td>0</td>\n",
       "    </tr>\n",
       "    <tr>\n",
       "      <th>4</th>\n",
       "      <td>Amarillo</td>\n",
       "      <td>Grande</td>\n",
       "      <td>Si</td>\n",
       "      <td>Adulto</td>\n",
       "      <td>Si</td>\n",
       "      <td>0</td>\n",
       "      <td>1</td>\n",
       "      <td>1.0</td>\n",
       "      <td>1</td>\n",
       "    </tr>\n",
       "    <tr>\n",
       "      <th>5</th>\n",
       "      <td>Amarillo</td>\n",
       "      <td>Grande</td>\n",
       "      <td>Si</td>\n",
       "      <td>Nene</td>\n",
       "      <td>Si</td>\n",
       "      <td>0</td>\n",
       "      <td>1</td>\n",
       "      <td>1.0</td>\n",
       "      <td>0</td>\n",
       "    </tr>\n",
       "    <tr>\n",
       "      <th>6</th>\n",
       "      <td>Amarillo</td>\n",
       "      <td>Mediano</td>\n",
       "      <td>No</td>\n",
       "      <td>Adulto</td>\n",
       "      <td>No</td>\n",
       "      <td>0</td>\n",
       "      <td>0</td>\n",
       "      <td>0.5</td>\n",
       "      <td>1</td>\n",
       "    </tr>\n",
       "    <tr>\n",
       "      <th>7</th>\n",
       "      <td>Amarillo</td>\n",
       "      <td>Mediano</td>\n",
       "      <td>No</td>\n",
       "      <td>Nene</td>\n",
       "      <td>No</td>\n",
       "      <td>0</td>\n",
       "      <td>0</td>\n",
       "      <td>0.5</td>\n",
       "      <td>0</td>\n",
       "    </tr>\n",
       "    <tr>\n",
       "      <th>8</th>\n",
       "      <td>Rojo</td>\n",
       "      <td>Chico</td>\n",
       "      <td>Si</td>\n",
       "      <td>Adulto</td>\n",
       "      <td>Si</td>\n",
       "      <td>1</td>\n",
       "      <td>1</td>\n",
       "      <td>0.0</td>\n",
       "      <td>1</td>\n",
       "    </tr>\n",
       "    <tr>\n",
       "      <th>9</th>\n",
       "      <td>Rojo</td>\n",
       "      <td>Chico</td>\n",
       "      <td>Si</td>\n",
       "      <td>Nene</td>\n",
       "      <td>No</td>\n",
       "      <td>1</td>\n",
       "      <td>1</td>\n",
       "      <td>0.0</td>\n",
       "      <td>0</td>\n",
       "    </tr>\n",
       "  </tbody>\n",
       "</table>\n",
       "</div>"
      ],
      "text/plain": [
       "      Color  Tamanio Se_estira?    Edad Inflado?  Color_num  Estira_num  \\\n",
       "0  Amarillo    Chico         Si  Adulto       Si          0           1   \n",
       "1  Amarillo    Chico         Si    Nene       Si          0           1   \n",
       "2  Amarillo    Chico         No  Adulto       No          0           0   \n",
       "3  Amarillo    Chico         No    Nene       No          0           0   \n",
       "4  Amarillo   Grande         Si  Adulto       Si          0           1   \n",
       "5  Amarillo   Grande         Si    Nene       Si          0           1   \n",
       "6  Amarillo  Mediano         No  Adulto       No          0           0   \n",
       "7  Amarillo  Mediano         No    Nene       No          0           0   \n",
       "8      Rojo    Chico         Si  Adulto       Si          1           1   \n",
       "9      Rojo    Chico         Si    Nene       No          1           1   \n",
       "\n",
       "   Tamanio_num  Edad_num  \n",
       "0          0.0         1  \n",
       "1          0.0         0  \n",
       "2          0.0         1  \n",
       "3          0.0         0  \n",
       "4          1.0         1  \n",
       "5          1.0         0  \n",
       "6          0.5         1  \n",
       "7          0.5         0  \n",
       "8          0.0         1  \n",
       "9          0.0         0  "
      ]
     },
     "execution_count": 9,
     "metadata": {},
     "output_type": "execute_result"
    }
   ],
   "source": [
    "df = pd.read_csv(\"csv/globos.csv\")\n",
    "\n",
    "mapColor = {\"Rojo\": 1, \"Amarillo\": 0}\n",
    "df[\"Color_num\"] = df[\"Color\"].map(mapColor)\n",
    "estiraMap = {\"Si\": 1, \"No\": 0}\n",
    "df[\"Estira_num\"] = df[\"Se_estira?\"].map(estiraMap)\n",
    "mapTamanio = {\"Grande\": 1, \"Mediano\": 0.5, \"Chico\": 0}\n",
    "df[\"Tamanio_num\"] = df[\"Tamanio\"].map(mapTamanio)\n",
    "mapEdad = {\"Adulto\" : 1, \"Nene\": 0}\n",
    "df[\"Edad_num\"] = df[\"Edad\"].map(mapEdad)\n",
    "\n",
    "df.head(10)"
   ]
  },
  {
   "cell_type": "code",
   "execution_count": 10,
   "id": "82fc95a0",
   "metadata": {},
   "outputs": [
    {
     "name": "stdout",
     "output_type": "stream",
     "text": [
      "[ 0.05   0.006 -0.068 -0.047]\n",
      "[0 0 0 1 0 0 0 1 0 0 1 1 0 0 1 1]\n",
      "[0 0 1 1 0 0 1 1 0 1 1 1 0 1 1 1]\n",
      "Perceptrón 1 no clasifica todos (4 errores)\n",
      "[-0.494 -0.003  0.722  0.489]\n",
      "[1 1 0 0 1 1 0 0 1 0 0 0 1 0 0 0]\n",
      "[0 0 1 1 0 0 1 1 0 1 1 1 0 1 1 1]\n",
      "Perceptrón 2 no clasifica todos (16 errores)\n",
      "[0.06   0.004  0.1278 0.021 ]\n",
      "[1 1 0 0 1 1 0 0 1 1 0 0 1 1 0 0]\n",
      "[0 0 1 1 0 0 1 1 0 1 1 1 0 1 1 1]\n",
      "Perceptrón 3 no clasifica todos (14 errores)\n",
      "[ 0.296  0.026 -0.576 -0.287]\n",
      "[0 0 1 1 0 0 1 1 0 1 1 1 0 1 1 1]\n",
      "[0 0 1 1 0 0 1 1 0 1 1 1 0 1 1 1]\n",
      "Perceptrón 4 clasifica todos los ejemplos correctamente\n",
      "[ 0.994  0.006 -1.466 -0.989]\n",
      "[0 0 0 1 0 0 1 1 0 1 1 1 0 1 1 1]\n",
      "[0 0 1 1 0 0 1 1 0 1 1 1 0 1 1 1]\n",
      "Perceptrón 5 no clasifica todos (1 errores)\n"
     ]
    }
   ],
   "source": [
    "import pandas as pd\n",
    "import numpy as np\n",
    "from ClassPerceptron import Perceptron  \n",
    "\n",
    "# Separar features y target\n",
    "X = df[[\"Color_num\",\"Tamanio_num\",\"Estira_num\",\"Edad_num\"]].astype(float).values\n",
    "y = df[\"Inflado?\"].map({\"Si\": 0, \"No\": 1}).astype(int).values  # 0 o 1\n",
    "\n",
    "# Pesos y sesgo de los perceptrones\n",
    "perceptrones = [\n",
    "    [0.050, 0.006, -0.068, -0.047, 0.005],      # Perceptrón 1\n",
    "    [-0.494, -0.003, 0.722, 0.489, -0.4943],    # Perceptrón 2\n",
    "    [0.06, 0.004, 0.1278, 0.021, -0.1132],      # Perceptrón 3\n",
    "    [0.296, 0.026, -0.576, -0.287, 0.371],      # Perceptrón 4\n",
    "    [0.994, 0.006, -1.466, -0.989, 0.988]       # Perceptrón 5\n",
    "]\n",
    "\n",
    "# Evaluar cada perceptrón\n",
    "for i, p_vals in enumerate(perceptrones, start=1):\n",
    "    p = Perceptron()\n",
    "    p.w_ = np.array(p_vals[:4])\n",
    "    print(p.w_)\n",
    "    p.b_ = p_vals[4]\n",
    "    \n",
    "    y_pred = p.predict(X)\n",
    "    print(y_pred)\n",
    "    print(y)\n",
    "    if np.array_equal(y_pred, y):\n",
    "        print(f\"Perceptrón {i} clasifica todos los ejemplos correctamente\")\n",
    "    else:\n",
    "        errores = np.sum(y_pred != y)\n",
    "        print(f\"Perceptrón {i} no clasifica todos ({errores} errores)\")\n"
   ]
  },
  {
   "cell_type": "markdown",
   "id": "e49e14b6",
   "metadata": {},
   "source": [
    "El 2 y el 4 (estan invertidos en si y no)."
   ]
  },
  {
   "cell_type": "markdown",
   "id": "b97a9f5e",
   "metadata": {},
   "source": [
    "b) Indique cuál de los 5 perceptrones del inciso anterior presenta el peor desempeño, es decir, cuál es el\n",
    "que clasifica la menor cantidad de ejemplos correctamente.\n",
    "\n",
    "EL peor desempenio se comparte el 1."
   ]
  },
  {
   "cell_type": "markdown",
   "id": "dd1e540e",
   "metadata": {},
   "source": [
    "# Ejercicio 3\n",
    "La Tabla 1 muestra información correspondiente de pacientes para determinar si deben realizarse un\n",
    "examen médico en función de su edad, altura y riesgo médico.\n",
    "\n",
    "![alt text](image-2.png)\n",
    "\n",
    "a) Luego de la numerización se calculó el coeficiente de correlación lineal entre los atributos EDAD y RIESGO\n",
    "y se obtuvo como resultado -0.71. ¿Cómo debe interpretarse este valor?"
   ]
  },
  {
   "cell_type": "code",
   "execution_count": 11,
   "id": "9937b788",
   "metadata": {},
   "outputs": [
    {
     "data": {
      "text/plain": [
       "'Débil correlación'"
      ]
     },
     "execution_count": 11,
     "metadata": {},
     "output_type": "execute_result"
    }
   ],
   "source": [
    "common.corr_type(-0.71)"
   ]
  },
  {
   "cell_type": "markdown",
   "id": "0d14fb75",
   "metadata": {},
   "source": [
    "b) Luego de numerizar el atributo RIESGO y de normalizar los atributos de manera lineal entre 0 y 1, los\n",
    "ejemplos fueron utilizados para entrenar un perceptrón capaz de predecir correctamente el atributo\n",
    "EXAMEN. \n",
    "Los pesos obtenidos fueron los siguientes:\n",
    "\n",
    "W(EDAD) = 0.0807 W(RIESGO) = 0.074 Sesgo o bias = -0.0742\n",
    "\n",
    "¿Cuál será la respuesta del perceptrón para los siguientes valores?[1]\n",
    "\n",
    "(EDAD, RIESGO) = (50, BAJO), (51, MEDIO), (54, ALTO)"
   ]
  },
  {
   "cell_type": "code",
   "execution_count": 12,
   "id": "fd3feeb4",
   "metadata": {},
   "outputs": [
    {
     "name": "stdout",
     "output_type": "stream",
     "text": [
      "EDAD=50, RIESGO=BAJO -> Predicción=0\n",
      "EDAD=51, RIESGO=MEDIO -> Predicción=0\n",
      "EDAD=54, RIESGO=ALTO -> Predicción=1\n"
     ]
    }
   ],
   "source": [
    "\n",
    "p = Perceptron()\n",
    "p.w_ = np.array([0.0807, 0.074])   # W(EDAD), W(RIESGO)\n",
    "p.b_ = -0.0742\n",
    "\n",
    "def normalize_edad(edad, edad_min=53, edad_max=60):\n",
    "    return (edad - edad_min) / (edad_max - edad_min)\n",
    "\n",
    "riesgo_map = {\"BAJO\": 0.0, \"MEDIO\": 0.5, \"ALTO\": 1.0}\n",
    "\n",
    "inputs = [\n",
    "    (50, \"BAJO\"),\n",
    "    (51, \"MEDIO\"),\n",
    "    (54, \"ALTO\")\n",
    "]\n",
    "\n",
    "for edad, riesgo_str in inputs:\n",
    "    x_edad = normalize_edad(edad)\n",
    "    x_riesgo = riesgo_map[riesgo_str]\n",
    "    X = np.array([x_edad, x_riesgo])\n",
    "    y_pred = p.predict(X)\n",
    "    print(f\"EDAD={edad}, RIESGO={riesgo_str} -> Predicción={y_pred}\")"
   ]
  },
  {
   "cell_type": "markdown",
   "id": "0ae5a9a1",
   "metadata": {},
   "source": [
    "# Ejercicio 4\n",
    "Se busca predecir si el tipo de fármaco que se debe administrar a un paciente afectado de rinitis alérgica es\n",
    "el habitual o no. Se dispone de información correspondiente a las historias clínicas de pacientes atendidos\n",
    "previamente. Las variables relevadas son las siguientes:\n",
    "\n",
    "● Age: Edad\n",
    "\n",
    "● Sex: Sexo\n",
    "\n",
    "● BP (Blood Pressure): Presión sanguínea.\n",
    "\n",
    "● Cholesterol: nivel de colesterol.\n",
    "\n",
    "● Na: Nivel de sodio en la sangre.\n",
    "\n",
    "● K: Nivel de potasio en la sangre.\n",
    "\n",
    "● Class: Fármaco suministrado. Cada paciente ha sido medicado con un único fármaco de 5 posibles: DrugA, DrugB, DrugC, DrugX, DrugY\n",
    "\n",
    "a) Utilice el archivo drug_train.csv para entrenar un perceptrón que sea capaz de predecir si el tipo de\n",
    "fármaco que se debe administrar a un paciente afectado de rinitis alérgica es el habitual (suministro de\n",
    "DrugY) o no.\n",
    "\n",
    "b) Luego utilice el archivo drug_test.csv para medir la calidad del modelo.\n",
    "\n",
    "c) Resuelva el problema:\n",
    "\n",
    "● numerizando los atributos ordinales utilizando dos representaciones diferentes: como entero único\n",
    "y de manera binaria (dummy).\n",
    "\n",
    "● Normalizando de diferentes formas: Sin normalizar, normalización lineal, normalización con media y\n",
    "desvío"
   ]
  },
  {
   "cell_type": "code",
   "execution_count": 13,
   "id": "acbd6028",
   "metadata": {},
   "outputs": [
    {
     "name": "stdout",
     "output_type": "stream",
     "text": [
      "        Age  Sex  BP  Cholesterol        Na         K  Drug\n",
      "0 -1.697812    0  -1            1  0.367718  0.642032     0\n",
      "1 -0.161397    1   1            1 -1.432057 -1.476815     1\n",
      "2 -0.693233    1  -1            1  1.357422 -1.460230     1\n",
      "3  0.134067    0  -1            1 -0.024780  1.051328     0\n",
      "4  0.665903    1   1            1  0.435842 -1.231922     1\n",
      "5 -1.106883    1   1            0  0.701494  0.737658     0\n",
      "6  1.315924    1   0            1  0.730001 -0.081106     1\n",
      "7 -0.161397    0  -1            1  0.479895 -0.755880     1\n",
      "8  0.488624    0  -1            1 -0.699641 -1.384553     1\n",
      "9  1.197739    0   1            0 -0.554247  0.303195     0\n"
     ]
    },
    {
     "name": "stderr",
     "output_type": "stream",
     "text": [
      "C:\\Users\\frank\\AppData\\Local\\Temp\\ipykernel_29968\\4257837800.py:5: FutureWarning: Downcasting behavior in `replace` is deprecated and will be removed in a future version. To retain the old behavior, explicitly call `result.infer_objects(copy=False)`. To opt-in to the future behavior, set `pd.set_option('future.no_silent_downcasting', True)`\n",
      "  df['Sex'] = df['Sex'].replace({\"M\": 0, \"F\": 1})\n",
      "C:\\Users\\frank\\AppData\\Local\\Temp\\ipykernel_29968\\4257837800.py:6: FutureWarning: Downcasting behavior in `replace` is deprecated and will be removed in a future version. To retain the old behavior, explicitly call `result.infer_objects(copy=False)`. To opt-in to the future behavior, set `pd.set_option('future.no_silent_downcasting', True)`\n",
      "  df['Cholesterol'] = df['Cholesterol'].replace({\"NORMAL\": 0, \"HIGH\": 1, \"LOW\": -1})\n",
      "C:\\Users\\frank\\AppData\\Local\\Temp\\ipykernel_29968\\4257837800.py:7: FutureWarning: Downcasting behavior in `replace` is deprecated and will be removed in a future version. To retain the old behavior, explicitly call `result.infer_objects(copy=False)`. To opt-in to the future behavior, set `pd.set_option('future.no_silent_downcasting', True)`\n",
      "  df['BP'] = df['BP'].replace({\"NORMAL\": 0, \"HIGH\": 1, \"LOW\": -1})\n",
      "C:\\Users\\frank\\AppData\\Local\\Temp\\ipykernel_29968\\4257837800.py:11: FutureWarning: Downcasting behavior in `replace` is deprecated and will be removed in a future version. To retain the old behavior, explicitly call `result.infer_objects(copy=False)`. To opt-in to the future behavior, set `pd.set_option('future.no_silent_downcasting', True)`\n",
      "  df['Drug'] = df['Drug'].replace({\"drugY\": 1, \"drugX\": 0, \"drugA\": 0, \"drugB\": 0, \"drugC\": 0})\n"
     ]
    }
   ],
   "source": [
    "df = pd.read_csv(\"csv/drugs_train.csv\")\n",
    "\n",
    "\n",
    "df['Age'] = sklearn.preprocessing.StandardScaler().fit_transform(df['Age'].values.reshape(-1, 1))\n",
    "df['Sex'] = df['Sex'].replace({\"M\": 0, \"F\": 1})\n",
    "df['Cholesterol'] = df['Cholesterol'].replace({\"NORMAL\": 0, \"HIGH\": 1, \"LOW\": -1})\n",
    "df['BP'] = df['BP'].replace({\"NORMAL\": 0, \"HIGH\": 1, \"LOW\": -1})\n",
    "df['Na'] = sklearn.preprocessing.StandardScaler().fit_transform(df['Na'].values.reshape(-1, 1))\n",
    "df['K'] = sklearn.preprocessing.StandardScaler().fit_transform(df['K'].values.reshape(-1, 1))\n",
    "\n",
    "df['Drug'] = df['Drug'].replace({\"drugY\": 1, \"drugX\": 0, \"drugA\": 0, \"drugB\": 0, \"drugC\": 0})\n",
    "\n",
    "print(df.head(10))\n",
    "\n",
    "\n"
   ]
  },
  {
   "cell_type": "code",
   "execution_count": 14,
   "id": "b58f4da3",
   "metadata": {},
   "outputs": [
    {
     "name": "stdout",
     "output_type": "stream",
     "text": [
      "        Age  Sex  BP  Cholesterol        Na         K  Drug\n",
      "0  0.298213    1  -1            1 -1.154022  0.323324     0\n",
      "1  0.435322    0  -1            0 -0.468993  0.495937     0\n",
      "2  0.503877    0   1            1 -1.324963  1.161264     0\n",
      "3 -0.730107    1   0            1 -1.077647  1.391613     0\n",
      "4 -0.181670    0   1            1 -1.015934 -1.484492     1\n",
      "5  1.395088    0   0            1 -0.546727 -1.282661     1\n",
      "6  0.229658    1   1            1  0.705774 -1.361812     1\n",
      "7  1.052314    1  -1            1  1.607022 -1.314138     1\n",
      "8 -0.798662    0   1            0  1.602051  0.231959     1\n",
      "9  1.600752    0   1            1  1.312575  0.235510     1\n",
      "aciertos = 39\n",
      "% de aciertos = 97.50 %\n",
      "[0 0 0 0 1 1 1 1 1 1 0 1 0 1 0 0 0 0 1 0 0 0 0 1 0 0 0 0 0 1 0 1 0 0 1 1 1\n",
      " 0 1 1]\n",
      "[0 0 0 0 1 1 1 1 1 1 0 1 0 1 0 0 0 0 1 0 0 0 0 1 0 0 0 0 0 1 0 1 0 0 1 1 1\n",
      " 1 1 1]\n"
     ]
    },
    {
     "name": "stderr",
     "output_type": "stream",
     "text": [
      "C:\\Users\\frank\\AppData\\Local\\Temp\\ipykernel_29968\\2088001899.py:12: FutureWarning: Downcasting behavior in `replace` is deprecated and will be removed in a future version. To retain the old behavior, explicitly call `result.infer_objects(copy=False)`. To opt-in to the future behavior, set `pd.set_option('future.no_silent_downcasting', True)`\n",
      "  df['Sex'] = df['Sex'].replace({\"M\": 0, \"F\": 1})\n",
      "C:\\Users\\frank\\AppData\\Local\\Temp\\ipykernel_29968\\2088001899.py:13: FutureWarning: Downcasting behavior in `replace` is deprecated and will be removed in a future version. To retain the old behavior, explicitly call `result.infer_objects(copy=False)`. To opt-in to the future behavior, set `pd.set_option('future.no_silent_downcasting', True)`\n",
      "  df['Cholesterol'] = df['Cholesterol'].replace({\"NORMAL\": 0, \"HIGH\": 1, \"LOW\": -1})\n",
      "C:\\Users\\frank\\AppData\\Local\\Temp\\ipykernel_29968\\2088001899.py:14: FutureWarning: Downcasting behavior in `replace` is deprecated and will be removed in a future version. To retain the old behavior, explicitly call `result.infer_objects(copy=False)`. To opt-in to the future behavior, set `pd.set_option('future.no_silent_downcasting', True)`\n",
      "  df['BP'] = df['BP'].replace({\"NORMAL\": 0, \"HIGH\": 1, \"LOW\": -1})\n",
      "C:\\Users\\frank\\AppData\\Local\\Temp\\ipykernel_29968\\2088001899.py:18: FutureWarning: Downcasting behavior in `replace` is deprecated and will be removed in a future version. To retain the old behavior, explicitly call `result.infer_objects(copy=False)`. To opt-in to the future behavior, set `pd.set_option('future.no_silent_downcasting', True)`\n",
      "  df['Drug'] = df['Drug'].replace({\"drugY\": 1, \"drugX\": 0, \"drugA\": 0, \"drugB\": 0, \"drugC\": 0})\n"
     ]
    }
   ],
   "source": [
    "p = Perceptron(alpha=0.1, n_iter=250)\n",
    "X = df.drop(\"Drug\", axis=1).values\n",
    "y = df[\"Drug\"].values\n",
    "\n",
    "p.fit(X, y)\n",
    "\n",
    "\n",
    "df = pd.read_csv(\"csv/drugs_test.csv\")\n",
    "\n",
    "\n",
    "df['Age'] = sklearn.preprocessing.StandardScaler().fit_transform(df['Age'].values.reshape(-1, 1))\n",
    "df['Sex'] = df['Sex'].replace({\"M\": 0, \"F\": 1})\n",
    "df['Cholesterol'] = df['Cholesterol'].replace({\"NORMAL\": 0, \"HIGH\": 1, \"LOW\": -1})\n",
    "df['BP'] = df['BP'].replace({\"NORMAL\": 0, \"HIGH\": 1, \"LOW\": -1})\n",
    "df['Na'] = sklearn.preprocessing.StandardScaler().fit_transform(df['Na'].values.reshape(-1, 1))\n",
    "df['K'] = sklearn.preprocessing.StandardScaler().fit_transform(df['K'].values.reshape(-1, 1))\n",
    "\n",
    "df['Drug'] = df['Drug'].replace({\"drugY\": 1, \"drugX\": 0, \"drugA\": 0, \"drugB\": 0, \"drugC\": 0})\n",
    "\n",
    "print(df.head(10))\n",
    "\n",
    "\n",
    "X = df.drop(\"Drug\", axis=1).values\n",
    "y = df[\"Drug\"].values\n",
    "\n",
    "y_pred = p.predict(X)\n",
    "aciertos = np.sum(y_pred == y)\n",
    "print(\"aciertos =\", aciertos)\n",
    "print(\"%% de aciertos = %.2f %%\" % (100 * aciertos / X.shape[0]))\n",
    "print(y_pred)\n",
    "print(y)"
   ]
  },
  {
   "cell_type": "markdown",
   "id": "2163f449",
   "metadata": {},
   "source": [
    "# Ejercicio 5\n",
    "El archivo semillas.csv contiene información de granos que pertenecen a tres variedades diferentes de trigo:\n",
    "Kama, Rosa y Canadiense. El total es de 210 ejemplos a razón de 70 ejemplos para cada tipo de grano,\n",
    "seleccionados al azar para el experimento. La información registrada corresponde al resultado de la\n",
    "visualización de alta calidad de la estructura interna del núcleo efectuada utilizando una técnica de rayos X\n",
    "blandos. Este tipo de estudio no es destructivo y es considerablemente más económico que otras técnicas\n",
    "de imagen más sofisticadas como la microscopía de barrido o la tecnología láser. Las imágenes se grabaron\n",
    "en placas KODAK de rayos x de 13x18 cm. Los estudios se realizaron utilizando granos de trigo cosechados\n",
    "combinados procedentes de campos experimentales, explorados en el Instituto de Agrofísica de la Academia\n",
    "Polaca de Ciencias en Lublin. Para construir los datos, se midieron siete parámetros geométricos de cada\n",
    "grano de trigo:\n",
    "\n",
    "● área A\n",
    "\n",
    "● perímetro P\n",
    "\n",
    "● compacidad C = 4 * pi * A / P ^ 2\n",
    "\n",
    "● longitud del núcleo\n",
    "\n",
    "● ancho del núcleo\n",
    "\n",
    "● coeficiente de asimetría\n",
    "\n",
    "● longitud del surco del núcleo\n",
    "\n",
    "A partir de los 210 ejemplos, luego de normalizarlos utilizando los valores de media y desvío, se logró entrenar\n",
    "un perceptrón capaz de identificar, con una precisión del 100%, uno de los tres tipos de semillas. Para realizar\n",
    "el entrenamiento se utilizó una velocidad de aprendizaje de 0.05 y un máximo de 200 iteraciones. Indique\n",
    "cuál es el tipo de semilla que puede ser reconocido correctamente por un perceptrón.\n",
    "\n",
    "\n",
    "RTA: La unica que linealmente se puede diferir del resto esla cananiense porque de las otras 2 variedades hay mucha solapación."
   ]
  },
  {
   "cell_type": "markdown",
   "id": "34bb6166",
   "metadata": {},
   "source": [
    "# Ejercicio 6\n",
    "El archivo zoo.csv contiene información de 101 animales caracterizados por los siguientes atributos\n",
    "A1. Nombre del animal\n",
    "A2. Tiene Pelo\n",
    "A3. Plumas\n",
    "A4. Huevos\n",
    "A5. Leche\n",
    "A6. Vuela\n",
    "A7. Acuático\n",
    "A8. Depredador\n",
    "A9. Dentado\n",
    "A10. Vertebrado\n",
    "A11. Branquias\n",
    "A12. Venenoso\n",
    "A13. Aletas\n",
    "A14. Patas\n",
    "A15. Cola\n",
    "A16. Domestico\n",
    "A17. Tamaño gato\n",
    "A18. Clase\n",
    "Salvo los atributos A1 y A18 que contienen texto y el A14 que contiene el número de patas del animal, el\n",
    "resto toma el valor 1 si el animal posee la característica y 0 si no. Hay 7 valores de clase posible (atributo\n",
    "A18): mamífero, ave, pez, invertebrado, insecto, reptil y anfibio.\n",
    "\n",
    "a) Realice un gráfico que visualice de la cantidad de ejemplos por cada valor del atributo clase y analice\n",
    "que tipos de problema podrían surgir al entrenar un modelo para clasificación.\n",
    "\n",
    "b) Utilice todos los ejemplos para entrenar un perceptrón que sea capaz de reconocer si un animal es un\n",
    "mamífero. Entrene varias veces si es necesario y verifique que funcione correctamente.\n",
    "\n",
    "c) Observe los pesos del perceptrón entrenado en a) ¿Puede determinar cuáles son las características más\n",
    "relevantes para decidir si se trata de un mamífero o no? Realice varias ejecuciones independientes y\n",
    "observe si las características más relevantes siguen siendo las mismas.\n",
    "\n",
    "d) Repita b) y c) para las aves.\n",
    "e) Repita b) y c) para los reptiles."
   ]
  },
  {
   "cell_type": "code",
   "execution_count": 23,
   "id": "6b6f32cd",
   "metadata": {},
   "outputs": [
    {
     "data": {
      "text/plain": [
       "<Axes: xlabel='Clase', ylabel='Cantidad'>"
      ]
     },
     "execution_count": 23,
     "metadata": {},
     "output_type": "execute_result"
    },
    {
     "data": {
      "image/png": "[encoded data removed]",
      "text/plain": [
       "<Figure size 640x480 with 1 Axes>"
      ]
     },
     "metadata": {},
     "output_type": "display_data"
    }
   ],
   "source": [
    "import seaborn as sns\n",
    "\n",
    "df = pd.read_csv(\"csv/zoo.csv\", encoding=\"latin1\")\n",
    "\n",
    "\n",
    "x = df[\"Clase\"].value_counts().reset_index()\n",
    "x.columns = [\"Clase\", \"Cantidad\"]\n",
    "\n",
    "sns.barplot(data=x, x=\"Clase\", y=\"Cantidad\", hue=\"Clase\")"
   ]
  },
  {
   "cell_type": "markdown",
   "id": "52f4a3ca",
   "metadata": {},
   "source": [
    "Los problemas serian que hay muy poca representación de algunos grupos y se podria interpretar como ruido."
   ]
  },
  {
   "cell_type": "code",
   "execution_count": null,
   "id": "dc60a97d",
   "metadata": {},
   "outputs": [
    {
     "name": "stdout",
     "output_type": "stream",
     "text": [
      "True\n",
      "[ 0.91443819 -0.12813215 -1.12373402  0.75359549 -0.40716656 -0.08494994\n",
      " -0.26111675  0.21962242 -0.03505928  0.48273108  0.03303422 -0.18908891\n",
      " -0.15643559 -0.24468     0.16898175  0.57265653]\n"
     ]
    }
   ],
   "source": [
    "p = Perceptron(alpha=0.1, n_iter=1000)\n",
    "X = df.drop(columns=[\"animal\", \"Clase\"]).astype(float).values\n",
    "y = (df[\"Clase\"] == \"Mamifero\").astype(int).values\n",
    "p.fit(X, y)\n",
    "\n",
    "print(np.array_equal(p.predict(X), y))\n",
    "\n",
    "print(p.w_) # -> Esto coincide con nace en huevo (negativamente) y tiene pelo (positivamente) y toma leche(positivamente)"
   ]
  },
  {
   "cell_type": "code",
   "execution_count": null,
   "id": "ca52e6a4",
   "metadata": {},
   "outputs": [
    {
     "name": "stdout",
     "output_type": "stream",
     "text": [
      "True\n",
      "[-1.6871869  -1.63771479  0.01717757 -1.06832341 -1.00817496 -1.10008649\n",
      " -0.2478641  -0.06377909  0.85989579 -0.20166761  0.49901963 -1.28719073\n",
      " -0.2108156   0.9633713   0.13462013  0.45036616]\n"
     ]
    }
   ],
   "source": [
    "p = Perceptron(alpha=0.1, n_iter=1000)\n",
    "X = df.drop(columns=[\"animal\", \"Clase\"]).astype(float).values\n",
    "y = (df[\"Clase\"] == \"Reptil\").astype(int).values\n",
    "p.fit(X, y)\n",
    "\n",
    "print(np.array_equal(p.predict(X), y))\n",
    "\n",
    "print(p.w_) # -> Esto coincide con tiene pelo (negativamente) y tiene plumas (negativamente) y toma leche (negativamente) y vuela (negativamente)"
   ]
  },
  {
   "cell_type": "code",
   "execution_count": null,
   "id": "0da0b791",
   "metadata": {},
   "outputs": [
    {
     "name": "stdout",
     "output_type": "stream",
     "text": [
      "True\n",
      "[-0.31922023  0.74891771 -0.20864077 -0.46000357  0.2257137  -0.32574038\n",
      "  0.1574954  -0.69302382  0.6628891   0.21163189 -0.30197596  0.38441846\n",
      " -0.3299319  -0.19098195  0.10139005  0.24603742]\n"
     ]
    }
   ],
   "source": [
    "p = Perceptron(alpha=0.1, n_iter=1000)\n",
    "X = df.drop(columns=[\"animal\", \"Clase\"]).astype(float).values\n",
    "y = (df[\"Clase\"] == \"Ave\").astype(int).values\n",
    "p.fit(X, y)\n",
    "\n",
    "print(np.array_equal(p.predict(X), y))\n",
    "\n",
    "print(p.w_) # -> Tiene plumas (positivamente)"
   ]
  },
  {
   "attachments": {
    "image.png": {
     "image/png": "[encoded data removed]"
    }
   },
   "cell_type": "markdown",
   "id": "f1cf00a7",
   "metadata": {},
   "source": [
    "# Ejercicio 7\n",
    "El archivo automobile_simple.csv contiene 11 atributos de automóviles de un total de 205 registros. Es una\n",
    "versión modificada y simplificada del dataset disponible en el repositorio UCI\n",
    "https://archive.ics.uci.edu/ml/datasets/Automobile. La siguiente tabla contiene una breve descripción de los\n",
    "atributos que contiene el archivo y caracterizan a cada vehículo.\n",
    "\n",
    "![image.png](attachment:image.png)\n",
    "\n",
    "a) Para cada atributo indique si es Discreto, Continuo, Nominal u Ordinal.\n",
    "\n",
    "b) Elimine los registros que presenten valores faltantes.\n",
    "\n",
    "c) Calcule la matriz de correlación usando los atributos numéricos.\n",
    "\n",
    "d) Realice el entrenamiento de un perceptrón para que aprenda a clasificar si un auto es ecológico. Tenga\n",
    "en cuenta los siguientes pasos:\n",
    "\n",
    "I. Utilice el atributo eco-rating para generar un nuevo atributo binario que determine si un auto es\n",
    "ecológico o no. Un auto es considerado ecológico si el valor de eco-rating supera la media de\n",
    "dicho atributo.\n",
    "\n",
    "II. Genere y compare 3 modelos utilizando diferentes normalizaciones (Sin normalizar,\n",
    "normalización lineal, normalización estándar.\n",
    "\n",
    "III. Teniendo en cuenta la matriz de correlación del punto c) repita el punto II) eliminando dos\n",
    "atributos fuertemente correlacionados (uno negativo y otro positivo). Compare y reflexione\n",
    "sobre los resultados obtenidos."
   ]
  },
  {
   "cell_type": "markdown",
   "id": "f7a6ce84",
   "metadata": {},
   "source": [
    "a) \n",
    "Atributos Nominales (categorías sin orden)\n",
    "\n",
    "- make → Nominal (marca del auto, categorías sin orden).\n",
    "\n",
    "- fuel-type → Nominal (diesel, gasolina, categorías sin jerarquía).\n",
    "\n",
    "- body-style → Nominal (sedán, hatchback, wagon, etc.).\n",
    "\n",
    "Atributos Ordinales (categorías con orden implícito)\n",
    "\n",
    "- num-of-doors → Ordinal (dos puertas < cuatro puertas, existe un orden aunque limitado).\n",
    "\n",
    "- eco-rating -> Ordinal\n",
    "\n",
    "Atributos Continuos (valores numéricos en un rango real)\n",
    "\n",
    "- curb-weight → Continuo (peso en vacío, numérico real entre 1488 y 4066).\n",
    "\n",
    "- engine-size → Continuo (cilindrada, valores reales entre 61 y 326).\n",
    "\n",
    "- horsepower → Continuo (potencia, valores entre 48 y 288).\n",
    "\n",
    "- city-mpg → Continuo (rendimiento en ciudad, valores entre 13 y 49 mpg).\n",
    "\n",
    "- highway-mpg → Continuo (rendimiento en ruta, valores entre 16 y 54 mpg).\n",
    "\n",
    "- price → Continuo (precio en USD, 5118 a 45400, numérico real).\n",
    "\n",
    "- volume → Continuo (alto × ancho × largo → valores continuos)."
   ]
  },
  {
   "cell_type": "code",
   "execution_count": 40,
   "id": "8e424eac",
   "metadata": {},
   "outputs": [
    {
     "name": "stdout",
     "output_type": "stream",
     "text": [
      "(205, 12)\n",
      "(197, 12)\n"
     ]
    }
   ],
   "source": [
    "df = pd.read_csv(\"csv/automobile-simple.csv\")\n",
    "\n",
    "print(df.shape)\n",
    "\n",
    "df.dropna(inplace=True)\n",
    "df.reset_index(drop=True, inplace=True)\n",
    "\n",
    "print(df.shape)"
   ]
  },
  {
   "cell_type": "code",
   "execution_count": 43,
   "id": "d11bf11a",
   "metadata": {},
   "outputs": [
    {
     "data": {
      "text/plain": [
       "<Axes: >"
      ]
     },
     "execution_count": 43,
     "metadata": {},
     "output_type": "execute_result"
    },
    {
     "data": {
      "image/png": "[encoded data removed]",
      "text/plain": [
       "<Figure size 640x480 with 2 Axes>"
      ]
     },
     "metadata": {},
     "output_type": "display_data"
    }
   ],
   "source": [
    "numericas = df.select_dtypes(include=[\"int64\", \"float64\"])\n",
    "\n",
    "sns.heatmap(numericas.corr(), annot=True, cmap=\"coolwarm\")"
   ]
  },
  {
   "cell_type": "code",
   "execution_count": null,
   "id": "00a9d062",
   "metadata": {},
   "outputs": [
    {
     "name": "stdout",
     "output_type": "stream",
     "text": [
      "Coinciden? True\n"
     ]
    }
   ],
   "source": [
    "import numpy as np\n",
    "import pandas as pd\n",
    "from sklearn.preprocessing import OneHotEncoder, StandardScaler\n",
    "\n",
    "num_cols = [\"curb-weight\", \"engine-size\", \"horsepower\", \"city-mpg\", \"highway-mpg\", \"price\", \"volume\"]\n",
    "cat_cols = [\"make\", \"fuel-type\", \"body-style\", \"num-of-doors\"]\n",
    "\n",
    "X_num = df[num_cols].values\n",
    "X_num = StandardScaler().fit_transform(X_num)\n",
    "\n",
    "encoder = OneHotEncoder(sparse_output=False, drop=\"first\", handle_unknown=\"ignore\")\n",
    "X_cat = encoder.fit_transform(df[cat_cols])\n",
    "\n",
    "X = np.hstack([X_num, X_cat])\n",
    "\n",
    "y = df[\"eco-rating-binary\"].values\n",
    "\n",
    "p = Perceptron(alpha=0.01, n_iter=500)\n",
    "p.fit(X, y)\n",
    "\n",
    "pred = p.predict(X)\n",
    "print(\"Coinciden?\", np.array_equal(pred, y))\n"
   ]
  }
 ],
 "metadata": {
  "kernelspec": {
   "display_name": "venv",
   "language": "python",
   "name": "python3"
  },
  "language_info": {
   "codemirror_mode": {
    "name": "ipython",
    "version": 3
   },
   "file_extension": ".py",
   "mimetype": "text/x-python",
   "name": "python",
   "nbconvert_exporter": "python",
   "pygments_lexer": "ipython3",
   "version": "3.13.5"
  }
 },
 "nbformat": 4,
 "nbformat_minor": 5
}
