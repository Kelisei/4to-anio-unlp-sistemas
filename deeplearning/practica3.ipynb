{
 "cells": [
  {
   "cell_type": "markdown",
   "id": "e8a9b2ac",
   "metadata": {},
   "source": [
    "# Ejercicio 1\n",
    "Dada la función f(x,y) = x / (2x^2 + 3y^2 + 1)  \n",
    "\n",
    "∂f/∂x = (-2x^2 + 3y^2 + 1) / (2x^2 + 3y^2 + 1)^2\n",
    "\n",
    "∂f/∂y = (-6xy) / (2x^2 + 3y^2 + 1)^2\n",
    "\n",
    "a) Indique el vector gradiente para 𝑥 = 1 e 𝑦 = −1  \n",
    "\n",
    "b) Si a partir de (𝑥 = 0.20; 𝑦 = −1) tuviera que elegir una\n",
    "dirección en la cual la función crezca, qué acción\n",
    "tomaría?\n",
    "\n",
    "i. Incrementar los valores de x e y\n",
    "\n",
    "ii. Disminuir los valores de x e y\n",
    "\n",
    "iii. Incrementar el valor de x y disminuir el de y\n",
    "\n",
    "iv. Disminuir el valor de x e incrementar el de y\n",
    "\n",
    "c) Una vez elegida la dirección en b), el movimiento a realizar será una fracción del módulo del vector\n",
    "gradiente. ¿Cuál sería la nueva posición si se considera 𝑎𝑙𝑓𝑎 = 0.1? ¿cuál es el valor de la función en\n",
    "la nueva ubicación?\n",
    "\n",
    "d) Considere nuevamente las opciones del inciso b) pero ahora debe buscar una dirección, a partir de\n",
    "(𝑥 = 0.20; 𝑦 = −1), en la cual la función disminuya ¿cuál sería su elección?\n",
    "\n",
    "e) Repita lo solicitado en c) para la dirección elegida en d) donde el objetivo fue hallar una ubicación\n",
    "donde la función tome un valor menor.\n",
    "\n",
    "f) Utilice la técnica del descenso de gradiente para calcular el valor y la ubicación del mínimo de la\n",
    "función 𝑓(𝑥, 𝑦) que se observa en la figura.\n",
    "\n",
    "g) Idem f) para el máximo de la función 𝑓(𝑥, 𝑦).\n"
   ]
  },
  {
   "cell_type": "markdown",
   "id": "b4f0432a",
   "metadata": {
    "vscode": {
     "languageId": "plaintext"
    }
   },
   "source": [
    "### a)"
   ]
  },
  {
   "cell_type": "code",
   "execution_count": 1,
   "id": "08b42205",
   "metadata": {},
   "outputs": [
    {
     "name": "stdout",
     "output_type": "stream",
     "text": [
      "x/(2*x**2 + 3*y**2 + 1)\n"
     ]
    }
   ],
   "source": [
    "import sympy as sp\n",
    "\n",
    "# Definir variables simbólicas\n",
    "x, y = sp.symbols('x y')\n",
    "\n",
    "# Definir la función\n",
    "f = x / (2*x**2 + 3*y**2 + 1)\n",
    "\n",
    "print(f)\n"
   ]
  },
  {
   "cell_type": "code",
   "execution_count": null,
   "id": "12e47733",
   "metadata": {},
   "outputs": [
    {
     "name": "stdout",
     "output_type": "stream",
     "text": [
      "∂f/∂x = -4*x**2/(2*x**2 + 3*y**2 + 1)**2 + 1/(2*x**2 + 3*y**2 + 1)\n",
      "∂f/∂y = -6*x*y/(2*x**2 + 3*y**2 + 1)**2\n",
      "Gradiente ∇f = Matrix([[-4*x**2/(2*x**2 + 3*y**2 + 1)**2 + 1/(2*x**2 + 3*y**2 + 1)], [-6*x*y/(2*x**2 + 3*y**2 + 1)**2]])\n",
      "Gradiente en (1,-1) = Matrix([[0.0555555555555556], [0.166666666666667]])\n"
     ]
    }
   ],
   "source": [
    "# Derivadas parciales\n",
    "df_dx = sp.diff(f, x)\n",
    "df_dy = sp.diff(f, y)\n",
    "\n",
    "print(\"∂f/∂x =\", df_dx)\n",
    "print(\"∂f/∂y =\", df_dy)\n",
    "\n",
    "# Gradiente\n",
    "grad_f = sp.Matrix([df_dx, df_dy])\n",
    "print(\"Gradiente ∇f =\", grad_f)\n",
    "\n",
    "# Evaluar el gradiente en un punto específico (x=1, y=-1)\n",
    "grad_at_point = grad_f.subs({x: 1, y: -1})\n",
    "print(\"Gradiente en (1,-1) =\", grad_at_point.evalf())"
   ]
  },
  {
   "cell_type": "markdown",
   "id": "84eb5727",
   "metadata": {},
   "source": [
    "### b) Si a partir de (𝑥 = 0.20; 𝑦 = −1) tuviera que elegir una dirección en la cual la función crezca, qué acción tomaría?\n",
    "\n",
    "i. Incrementar los valores de x e y  --> Correcta, el gradiente aumenta en x e y\n",
    "\n",
    "ii. Disminuir los valores de x e y\n",
    "\n",
    "iii. Incrementar el valor de x y disminuir el de y\n",
    "\n",
    "iv. Disminuir el valor de x e incrementar el de y"
   ]
  },
  {
   "cell_type": "code",
   "execution_count": 5,
   "id": "ebdc2813",
   "metadata": {},
   "outputs": [
    {
     "name": "stdout",
     "output_type": "stream",
     "text": [
      "Gradiente en (0.20,-1) = Matrix([[0.235486351403306], [0.0720876585928489]])\n"
     ]
    }
   ],
   "source": [
    "grad_at_point = grad_f.subs({x: 0.20, y: -1})\n",
    "print(\"Gradiente en (0.20,-1) =\", grad_at_point.evalf())"
   ]
  },
  {
   "cell_type": "markdown",
   "id": "89cf6b97",
   "metadata": {},
   "source": [
    "### c) Una vez elegida la dirección en b), el movimiento a realizar será una fracción del módulo del vector gradiente. ¿Cuál sería la nueva posición si se considera 𝑎𝑙𝑓𝑎 = 0.1? ¿cuál es el valor de la función en la nueva ubicación?\n",
    "\n",
    "Suponiendo un paso de esta forma:\n",
    "(xnuevo, ynuevo) = (x0, y0) + alfa * ∇f(x0, y0) "
   ]
  },
  {
   "cell_type": "code",
   "execution_count": null,
   "id": "b729a1de",
   "metadata": {},
   "outputs": [
    {
     "name": "stdout",
     "output_type": "stream",
     "text": [
      "Nueva posición: (0.223548635140331, -0.992791234140715)\n"
     ]
    }
   ],
   "source": [
    "alpha = 0.1\n",
    "x0, y0 = 0.20, -1\n",
    "new_position = (x0 + alpha * grad_at_point[0], y0 + alpha * grad_at_point[1])\n",
    "print(\"Nueva posición:\", new_position)"
   ]
  },
  {
   "cell_type": "markdown",
   "id": "8ae8b79b",
   "metadata": {},
   "source": [
    "### d) Considere nuevamente las opciones del inciso b) pero ahora debe buscar una dirección, a partir de (𝑥 = 0.20; 𝑦 = −1), en la cual la función disminuya ¿cuál sería su elección?\n",
    "\n",
    "La idea seria disminuir en x e y."
   ]
  },
  {
   "cell_type": "markdown",
   "id": "a40e7b3a",
   "metadata": {},
   "source": [
    "### e)"
   ]
  },
  {
   "cell_type": "code",
   "execution_count": 7,
   "id": "891e283e",
   "metadata": {},
   "outputs": [
    {
     "name": "stdout",
     "output_type": "stream",
     "text": [
      "Nueva posición: (0.176451364859669, -1.00720876585928)\n"
     ]
    }
   ],
   "source": [
    "alpha = 0.1\n",
    "x0, y0 = 0.20, -1\n",
    "new_position = (x0 + alpha * -grad_at_point[0], y0 + alpha * -grad_at_point[1])\n",
    "print(\"Nueva posición:\", new_position)"
   ]
  },
  {
   "cell_type": "markdown",
   "id": "21470d12",
   "metadata": {},
   "source": [
    "### f) Utilice la técnica del descenso de gradiente para calcular el valor y la ubicación del mínimo de la función 𝑓(𝑥, 𝑦) que se observa en la figura.\n",
    "\n",
    "### g) Idem f) para el máximo de la función 𝑓(𝑥, 𝑦)."
   ]
  },
  {
   "cell_type": "code",
   "execution_count": 8,
   "id": "5cfd70ff",
   "metadata": {},
   "outputs": [
    {
     "name": "stdout",
     "output_type": "stream",
     "text": [
      "Mínimo en: Matrix([[-0.711096959054583], [-0.00193827784364301]])\n",
      "Valor mínimo: -0.353545812006922\n",
      "Máximo en: Matrix([[0.708187877814801], [-0.000273726833517454]])\n",
      "Valor máximo: 0.353552938327043\n"
     ]
    }
   ],
   "source": [
    "def gradient_descent(starting_point, learning_rate, num_iterations, error_threshold=1e-6):\n",
    "    point = sp.Matrix(starting_point)\n",
    "    for _ in range(num_iterations):\n",
    "        grad = grad_f.subs({x: point[0], y: point[1]}).evalf()\n",
    "        point = point - learning_rate * grad\n",
    "        if grad.norm() < error_threshold:\n",
    "            break\n",
    "    return point, f.subs({x: point[0], y: point[1]}).evalf()\n",
    "\n",
    "# Parámetros\n",
    "starting_point = (0.20, -1)\n",
    "learning_rate = 0.1\n",
    "num_iterations = 100\n",
    "min_point, min_value = gradient_descent(starting_point, learning_rate, num_iterations)\n",
    "print(\"Mínimo en:\", min_point)\n",
    "print(\"Valor mínimo:\", min_value)\n",
    "max_point, max_value = gradient_descent(starting_point, -learning_rate, num_iterations)\n",
    "print(\"Máximo en:\", max_point)\n",
    "print(\"Valor máximo:\", max_value)"
   ]
  },
  {
   "cell_type": "markdown",
   "id": "8824cc26",
   "metadata": {},
   "source": [
    "# Ejercicio 2\n",
    "El precio de una vivienda está dado por dos factores, la proximidad a centros comerciales, financieros, vías\n",
    "y demás que se mide a través del factor j, y de la condición misma de la vivienda que se mide por el factor k.\n",
    "La relación entre estos factores y el precio de la vivienda en un barrio determinado está dada por:\n",
    "\n",
    "P(j,k) = k^2 - 2jk + 2j^2 + 18j - 20k + 201\n",
    "\n",
    "donde el precio está dado en miles de dólares.\n",
    "Utilice la técnica de descenso de gradiente para determinar los valores de j y k que minimizan el precio de\n",
    "la vivienda."
   ]
  },
  {
   "cell_type": "code",
   "execution_count": 13,
   "id": "d60fe1c3",
   "metadata": {},
   "outputs": [
    {
     "name": "stdout",
     "output_type": "stream",
     "text": [
      "[4*j - 2*k + 18, -2*j + 2*k - 20]\n",
      "Mínimo en: Matrix([[0.999999399436555], [10.9999990282679]])\n",
      "Valor mínimo: 100.000000000000\n"
     ]
    }
   ],
   "source": [
    "import sympy as sp\n",
    "\n",
    "j, k = sp.symbols('j k')\n",
    "P = k**2 - 2*j*k + 2*j**2 + 18*j - 20*k + 201\n",
    "\n",
    "P_grad = [sp.diff(P, j), sp.diff(P, k)]  # gradiente\n",
    "print(P_grad)\n",
    "\n",
    "def gradient_descent(starting_point, gradient, learning_rate, num_iterations, error_threshold=1e-6):\n",
    "    point = sp.Matrix(starting_point)\n",
    "    for _ in range(num_iterations):\n",
    "        grad = sp.Matrix(gradient).subs({j: point[0], k: point[1]}).evalf()\n",
    "        point = point - learning_rate * grad\n",
    "        if grad.norm() < error_threshold:\n",
    "            break\n",
    "    return point, P.subs({j: point[0], k: point[1]}).evalf()\n",
    "\n",
    "min_point, min_value = gradient_descent((0, 0), P_grad, 0.1, 1000)\n",
    "\n",
    "print(\"Mínimo en:\", min_point)\n",
    "print(\"Valor mínimo:\", min_value)"
   ]
  },
  {
   "cell_type": "markdown",
   "id": "dec81d63",
   "metadata": {},
   "source": [
    "# Ejercicio 3\n",
    "A continuación, se presentan datos de entrenamiento y tiempo promedio de un recorrido de corredores\n",
    "para una distancia fija. Los datos están organizados en una tabla con las horas de entrenamiento semanales\n",
    "y el tiempo promedio en minutos para completar el recorrido:\n",
    "\n",
    "| Horas de Entrenamiento | Tiempo Promedio (min) |\n",
    "|------------------------|----------------------|\n",
    "| 2                      | 30.5                 |\n",
    "| 3                      | 29.3                 |\n",
    "| 4                      | 26.7                 |\n",
    "| 4                      | 26.0                 |\n",
    "| 5                      | 25.5                 |\n",
    "| 6                      | 24.7                 |\n",
    "| 6                      | 23.5                 |\n",
    "| 7                      | 23.0                 |\n",
    "| 7                      | 22.5                 |\n",
    "| 8                      | 21.0                 |\n",
    "| 10                     | 21.0                 |\n",
    "| 10                     | 20.5                 |\n",
    "\n",
    "A partir de los datos de entrenamiento y tiempos de recorrido de los corredores, se desea obtener la recta\n",
    "de regresión que permita predecir el tiempo promedio que un corredor tardará en recorrer la distancia fija\n",
    "a partir de las horas de entrenamiento semanales. Responder:\n",
    "\n",
    "a) Calcule la correlación lineal entre estas dos variables y dibuje el diagrama de dispersión\n",
    "correspondiente. ¿La recta de regresión será de utilidad?\n",
    "\n",
    "b) Indique la ecuación del error cuadrático medio que se debería minimizar si se utilizara la técnica de\n",
    "descenso de gradiente.\n",
    "\n",
    "c) Indique la ecuación de error que se minimiza al utilizar la técnica de descenso de gradiente\n",
    "estocástico. ¿Qué ventaja tiene su uso con respecto a la ecuación indicada en b)?\n",
    "\n",
    "d) Utilice la técnica de descenso de gradiente estocástico para obtener los coeficientes de la recta de\n",
    "regresión que permita predecir el tiempo promedio que un corredor tardará en recorrer la distancia\n",
    "fija a partir de las horas de entrenamiento semanales.\n",
    "\n",
    "e) Utilice la recta obtenida en d) para predecir el tiempo promedio que tardará en recorrer la distancia\n",
    "fija un corredor que entrena 9 horas semanales."
   ]
  }
 ],
 "metadata": {
  "kernelspec": {
   "display_name": ".env",
   "language": "python",
   "name": "python3"
  },
  "language_info": {
   "codemirror_mode": {
    "name": "ipython",
    "version": 3
   },
   "file_extension": ".py",
   "mimetype": "text/x-python",
   "name": "python",
   "nbconvert_exporter": "python",
   "pygments_lexer": "ipython3",
   "version": "3.13.5"
  }
 },
 "nbformat": 4,
 "nbformat_minor": 5
}
