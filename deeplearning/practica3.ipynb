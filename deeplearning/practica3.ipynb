{
 "cells": [
  {
   "cell_type": "markdown",
   "id": "e8a9b2ac",
   "metadata": {},
   "source": [
    "# Ejercicio 1\n",
    "Dada la función f(x,y) = x / (2x^2 + 3y^2 + 1)  \n",
    "\n",
    "∂f/∂x = (-2x^2 + 3y^2 + 1) / (2x^2 + 3y^2 + 1)^2\n",
    "\n",
    "∂f/∂y = (-6xy) / (2x^2 + 3y^2 + 1)^2\n",
    "\n",
    "a) Indique el vector gradiente para 𝑥 = 1 e 𝑦 = −1  \n",
    "\n",
    "b) Si a partir de (𝑥 = 0.20; 𝑦 = −1) tuviera que elegir una\n",
    "dirección en la cual la función crezca, qué acción\n",
    "tomaría?\n",
    "\n",
    "i. Incrementar los valores de x e y\n",
    "\n",
    "ii. Disminuir los valores de x e y\n",
    "\n",
    "iii. Incrementar el valor de x y disminuir el de y\n",
    "\n",
    "iv. Disminuir el valor de x e incrementar el de y\n",
    "\n",
    "c) Una vez elegida la dirección en b), el movimiento a realizar será una fracción del módulo del vector\n",
    "gradiente. ¿Cuál sería la nueva posición si se considera 𝑎𝑙𝑓𝑎 = 0.1? ¿cuál es el valor de la función en\n",
    "la nueva ubicación?\n",
    "\n",
    "d) Considere nuevamente las opciones del inciso b) pero ahora debe buscar una dirección, a partir de\n",
    "(𝑥 = 0.20; 𝑦 = −1), en la cual la función disminuya ¿cuál sería su elección?\n",
    "\n",
    "e) Repita lo solicitado en c) para la dirección elegida en d) donde el objetivo fue hallar una ubicación\n",
    "donde la función tome un valor menor.\n",
    "\n",
    "f) Utilice la técnica del descenso de gradiente para calcular el valor y la ubicación del mínimo de la\n",
    "función 𝑓(𝑥, 𝑦) que se observa en la figura.\n",
    "\n",
    "g) Idem f) para el máximo de la función 𝑓(𝑥, 𝑦).\n"
   ]
  },
  {
   "cell_type": "markdown",
   "id": "b4f0432a",
   "metadata": {
    "vscode": {
     "languageId": "plaintext"
    }
   },
   "source": [
    "### a)"
   ]
  },
  {
   "cell_type": "code",
   "execution_count": 2,
   "id": "08b42205",
   "metadata": {},
   "outputs": [
    {
     "name": "stdout",
     "output_type": "stream",
     "text": [
      "x/(2*x**2 + 3*y**2 + 1)\n"
     ]
    }
   ],
   "source": [
    "import sympy as sp\n",
    "\n",
    "# Definir variables simbólicas\n",
    "x, y = sp.symbols(\"x y\")\n",
    "\n",
    "# Definir la función\n",
    "f = x / (2 * x**2 + 3 * y**2 + 1)\n",
    "\n",
    "print(f)"
   ]
  },
  {
   "cell_type": "code",
   "execution_count": 3,
   "id": "12e47733",
   "metadata": {},
   "outputs": [
    {
     "name": "stdout",
     "output_type": "stream",
     "text": [
      "∂f/∂x = -4*x**2/(2*x**2 + 3*y**2 + 1)**2 + 1/(2*x**2 + 3*y**2 + 1)\n",
      "∂f/∂y = -6*x*y/(2*x**2 + 3*y**2 + 1)**2\n",
      "Gradiente ∇f = Matrix([[-4*x**2/(2*x**2 + 3*y**2 + 1)**2 + 1/(2*x**2 + 3*y**2 + 1)], [-6*x*y/(2*x**2 + 3*y**2 + 1)**2]])\n",
      "Gradiente en (1,-1) = Matrix([[0.0555555555555556], [0.166666666666667]])\n"
     ]
    }
   ],
   "source": [
    "# Derivadas parciales\n",
    "df_dx = sp.diff(f, x)\n",
    "df_dy = sp.diff(f, y)\n",
    "\n",
    "print(\"∂f/∂x =\", df_dx)\n",
    "print(\"∂f/∂y =\", df_dy)\n",
    "\n",
    "# Gradiente\n",
    "grad_f = sp.Matrix([df_dx, df_dy])\n",
    "print(\"Gradiente ∇f =\", grad_f)\n",
    "\n",
    "# Evaluar el gradiente en un punto específico (x=1, y=-1)\n",
    "grad_at_point = grad_f.subs({x: 1, y: -1})\n",
    "print(\"Gradiente en (1,-1) =\", grad_at_point.evalf())"
   ]
  },
  {
   "cell_type": "markdown",
   "id": "84eb5727",
   "metadata": {},
   "source": [
    "### b) Si a partir de (𝑥 = 0.20; 𝑦 = −1) tuviera que elegir una dirección en la cual la función crezca, qué acción tomaría?\n",
    "\n",
    "i. Incrementar los valores de x e y  --> Correcta, el gradiente aumenta en x e y\n",
    "\n",
    "ii. Disminuir los valores de x e y\n",
    "\n",
    "iii. Incrementar el valor de x y disminuir el de y\n",
    "\n",
    "iv. Disminuir el valor de x e incrementar el de y"
   ]
  },
  {
   "cell_type": "code",
   "execution_count": 4,
   "id": "ebdc2813",
   "metadata": {},
   "outputs": [
    {
     "name": "stdout",
     "output_type": "stream",
     "text": [
      "Gradiente en (0.20,-1) = Matrix([[0.235486351403306], [0.0720876585928489]])\n"
     ]
    }
   ],
   "source": [
    "grad_at_point = grad_f.subs({x: 0.20, y: -1})\n",
    "print(\"Gradiente en (0.20,-1) =\", grad_at_point.evalf())"
   ]
  },
  {
   "cell_type": "markdown",
   "id": "89cf6b97",
   "metadata": {},
   "source": [
    "### c) Una vez elegida la dirección en b), el movimiento a realizar será una fracción del módulo del vector gradiente. ¿Cuál sería la nueva posición si se considera 𝑎𝑙𝑓𝑎 = 0.1? ¿cuál es el valor de la función en la nueva ubicación?\n",
    "\n",
    "Suponiendo un paso de esta forma:\n",
    "(xnuevo, ynuevo) = (x0, y0) + alfa * ∇f(x0, y0) "
   ]
  },
  {
   "cell_type": "code",
   "execution_count": 5,
   "id": "b729a1de",
   "metadata": {},
   "outputs": [
    {
     "name": "stdout",
     "output_type": "stream",
     "text": [
      "Nueva posición: (0.223548635140331, -0.992791234140715)\n"
     ]
    }
   ],
   "source": [
    "alpha = 0.1\n",
    "x0, y0 = 0.20, -1\n",
    "new_position = (x0 + alpha * grad_at_point[0], y0 + alpha * grad_at_point[1])\n",
    "print(\"Nueva posición:\", new_position)"
   ]
  },
  {
   "cell_type": "markdown",
   "id": "8ae8b79b",
   "metadata": {},
   "source": [
    "### d) Considere nuevamente las opciones del inciso b) pero ahora debe buscar una dirección, a partir de (𝑥 = 0.20; 𝑦 = −1), en la cual la función disminuya ¿cuál sería su elección?\n",
    "\n",
    "La idea seria disminuir en x e y."
   ]
  },
  {
   "cell_type": "markdown",
   "id": "a40e7b3a",
   "metadata": {},
   "source": [
    "### e)"
   ]
  },
  {
   "cell_type": "code",
   "execution_count": 6,
   "id": "891e283e",
   "metadata": {},
   "outputs": [
    {
     "name": "stdout",
     "output_type": "stream",
     "text": [
      "Nueva posición: (0.176451364859669, -1.00720876585928)\n"
     ]
    }
   ],
   "source": [
    "alpha = 0.1\n",
    "x0, y0 = 0.20, -1\n",
    "new_position = (x0 + alpha * -grad_at_point[0], y0 + alpha * -grad_at_point[1])\n",
    "print(\"Nueva posición:\", new_position)"
   ]
  },
  {
   "cell_type": "markdown",
   "id": "21470d12",
   "metadata": {},
   "source": [
    "### f) Utilice la técnica del descenso de gradiente para calcular el valor y la ubicación del mínimo de la función 𝑓(𝑥, 𝑦) que se observa en la figura.\n",
    "\n",
    "### g) Idem f) para el máximo de la función 𝑓(𝑥, 𝑦)."
   ]
  },
  {
   "cell_type": "code",
   "execution_count": 7,
   "id": "5cfd70ff",
   "metadata": {},
   "outputs": [
    {
     "name": "stdout",
     "output_type": "stream",
     "text": [
      "Mínimo en: Matrix([[-0.711096959054583], [-0.00193827784364301]])\n",
      "Valor mínimo: -0.353545812006922\n",
      "Máximo en: Matrix([[0.708187877814801], [-0.000273726833517454]])\n",
      "Valor máximo: 0.353552938327043\n"
     ]
    }
   ],
   "source": [
    "def gradient_descent(\n",
    "    starting_point, learning_rate, num_iterations, error_threshold=1e-6\n",
    "):\n",
    "    point = sp.Matrix(starting_point)\n",
    "    for _ in range(num_iterations):\n",
    "        grad = grad_f.subs({x: point[0], y: point[1]}).evalf()\n",
    "        point = point - learning_rate * grad\n",
    "        if grad.norm() < error_threshold:\n",
    "            break\n",
    "    return point, f.subs({x: point[0], y: point[1]}).evalf()\n",
    "\n",
    "\n",
    "# Parámetros\n",
    "starting_point = (0.20, -1)\n",
    "learning_rate = 0.1\n",
    "num_iterations = 100\n",
    "min_point, min_value = gradient_descent(starting_point, learning_rate, num_iterations)\n",
    "print(\"Mínimo en:\", min_point)\n",
    "print(\"Valor mínimo:\", min_value)\n",
    "max_point, max_value = gradient_descent(starting_point, -learning_rate, num_iterations)\n",
    "print(\"Máximo en:\", max_point)\n",
    "print(\"Valor máximo:\", max_value)"
   ]
  },
  {
   "cell_type": "markdown",
   "id": "8824cc26",
   "metadata": {},
   "source": [
    "# Ejercicio 2\n",
    "El precio de una vivienda está dado por dos factores, la proximidad a centros comerciales, financieros, vías\n",
    "y demás que se mide a través del factor j, y de la condición misma de la vivienda que se mide por el factor k.\n",
    "La relación entre estos factores y el precio de la vivienda en un barrio determinado está dada por:\n",
    "\n",
    "P(j,k) = k^2 - 2jk + 2j^2 + 18j - 20k + 201\n",
    "\n",
    "donde el precio está dado en miles de dólares.\n",
    "Utilice la técnica de descenso de gradiente para determinar los valores de j y k que minimizan el precio de\n",
    "la vivienda."
   ]
  },
  {
   "cell_type": "code",
   "execution_count": 8,
   "id": "d60fe1c3",
   "metadata": {},
   "outputs": [
    {
     "name": "stdout",
     "output_type": "stream",
     "text": [
      "[4*j - 2*k + 18, -2*j + 2*k - 20]\n",
      "Mínimo en: Matrix([[0.999999399436555], [10.9999990282679]])\n",
      "Valor mínimo: 100.000000000000\n"
     ]
    }
   ],
   "source": [
    "import sympy as sp\n",
    "\n",
    "j, k = sp.symbols(\"j k\")\n",
    "P = k**2 - 2 * j * k + 2 * j**2 + 18 * j - 20 * k + 201\n",
    "\n",
    "P_grad = [sp.diff(P, j), sp.diff(P, k)]  # gradiente\n",
    "print(P_grad)\n",
    "\n",
    "\n",
    "def gradient_descent(\n",
    "    starting_point, gradient, learning_rate, num_iterations, error_threshold=1e-6\n",
    "):\n",
    "    point = sp.Matrix(starting_point)\n",
    "    for _ in range(num_iterations):\n",
    "        grad = sp.Matrix(gradient).subs({j: point[0], k: point[1]}).evalf()\n",
    "        # Restamos el gradiente para minimizar\n",
    "        point = point - learning_rate * grad\n",
    "        # Si la longitud del gradiente es menor que el umbral de error, detenemos\n",
    "        if grad.norm() < error_threshold:\n",
    "            break\n",
    "    return point, P.subs({j: point[0], k: point[1]}).evalf()\n",
    "\n",
    "\n",
    "min_point, min_value = gradient_descent((0, 0), P_grad, 0.1, 1000)\n",
    "\n",
    "print(\"Mínimo en:\", min_point)\n",
    "print(\"Valor mínimo:\", min_value)"
   ]
  },
  {
   "cell_type": "markdown",
   "id": "dec81d63",
   "metadata": {},
   "source": [
    "# Ejercicio 3\n",
    "A continuación, se presentan datos de entrenamiento y tiempo promedio de un recorrido de corredores\n",
    "para una distancia fija. Los datos están organizados en una tabla con las horas de entrenamiento semanales\n",
    "y el tiempo promedio en minutos para completar el recorrido:\n",
    "\n",
    "| Horas de Entrenamiento | Tiempo Promedio (min) |\n",
    "|------------------------|----------------------|\n",
    "| 2                      | 30.5                 |\n",
    "| 3                      | 29.3                 |\n",
    "| 4                      | 26.7                 |\n",
    "| 4                      | 26.0                 |\n",
    "| 5                      | 25.5                 |\n",
    "| 6                      | 24.7                 |\n",
    "| 6                      | 23.5                 |\n",
    "| 7                      | 23.0                 |\n",
    "| 7                      | 22.5                 |\n",
    "| 8                      | 21.0                 |\n",
    "| 10                     | 21.0                 |\n",
    "| 10                     | 20.5                 |\n",
    "\n",
    "A partir de los datos de entrenamiento y tiempos de recorrido de los corredores, se desea obtener la recta\n",
    "de regresión que permita predecir el tiempo promedio que un corredor tardará en recorrer la distancia fija\n",
    "a partir de las horas de entrenamiento semanales. Responder:\n",
    "\n",
    "a) Calcule la correlación lineal entre estas dos variables y dibuje el diagrama de dispersión\n",
    "correspondiente. ¿La recta de regresión será de utilidad?\n",
    "\n",
    "b) Indique la ecuación del error cuadrático medio que se debería minimizar si se utilizara la técnica de\n",
    "descenso de gradiente.\n",
    "\n",
    "c) Indique la ecuación de error que se minimiza al utilizar la técnica de descenso de gradiente\n",
    "estocástico. ¿Qué ventaja tiene su uso con respecto a la ecuación indicada en b)?\n",
    "\n",
    "d) Utilice la técnica de descenso de gradiente estocástico para obtener los coeficientes de la recta de\n",
    "regresión que permita predecir el tiempo promedio que un corredor tardará en recorrer la distancia\n",
    "fija a partir de las horas de entrenamiento semanales.\n",
    "\n",
    "e) Utilice la recta obtenida en d) para predecir el tiempo promedio que tardará en recorrer la distancia\n",
    "fija un corredor que entrena 9 horas semanales."
   ]
  },
  {
   "cell_type": "markdown",
   "id": "8aed6800",
   "metadata": {},
   "source": [
    "### a)"
   ]
  },
  {
   "cell_type": "code",
   "execution_count": 9,
   "id": "fee935fc",
   "metadata": {},
   "outputs": [
    {
     "data": {
      "image/png": "[encoded data removed]",
      "text/plain": [
       "<Figure size 640x480 with 1 Axes>"
      ]
     },
     "metadata": {},
     "output_type": "display_data"
    }
   ],
   "source": [
    "import pandas as pd\n",
    "import seaborn as sns\n",
    "import matplotlib.pyplot as plt\n",
    "\n",
    "data = {\n",
    "    \"Horas de Entrenamiento\": [2, 3, 4, 4, 5, 6, 6, 7, 7, 8, 10, 10],\n",
    "    \"Tiempo Promedio (min)\": [\n",
    "        30.5,\n",
    "        29.3,\n",
    "        26.7,\n",
    "        26.0,\n",
    "        25.5,\n",
    "        24.7,\n",
    "        23.5,\n",
    "        23.0,\n",
    "        22.5,\n",
    "        21.0,\n",
    "        21.0,\n",
    "        20.5,\n",
    "    ],\n",
    "}\n",
    "\n",
    "df = pd.DataFrame(data)\n",
    "\n",
    "df[\"Horas de Entrenamiento\"].corr(df[\"Tiempo Promedio (min)\"])\n",
    "\n",
    "sns.regplot(\n",
    "    x=\"Horas de Entrenamiento\",\n",
    "    y=\"Tiempo Promedio (min)\",\n",
    "    data=df,\n",
    "    ci=None,\n",
    "    line_kws={\"color\": \"red\"},\n",
    ")\n",
    "plt.title(\"Regresión lineal: Horas vs Tiempo Promedio\")\n",
    "plt.show()"
   ]
  },
  {
   "cell_type": "markdown",
   "id": "9d0bb2af",
   "metadata": {},
   "source": [
    "La recta sera de ayuda ya que al correlacion lineal es fuerte (negativa). Casi 1 es decir casi perfecta."
   ]
  },
  {
   "cell_type": "markdown",
   "id": "e661e3e9",
   "metadata": {},
   "source": [
    "### b)\n",
    "\n",
    "La formula de la ecuación de error cuadratico medio para regresión lineal simple es la siguiente:\n",
    "\n",
    "$$\n",
    "MSE = \\frac{1}{m} \\sum_{i=1}^{m} (y_i - \\hat{y}_i)^2 \\\\\n",
    "$$\n",
    "\n",
    "Donde:\n",
    "\n",
    "- $MSE$ es el Error Cuadrático Medio.\n",
    "- $m$ es el número de observaciones o ejemplos del conjunto de datos.\n",
    "- $y_i$ es el valor real (que intenta predecir el modelo) del ejemplo $i$.\n",
    "- $\\hat{y}_i$ es el valor predicho por el modelo para el ejemplo $i$.\n",
    "\n",
    "\n",
    "Muchas veces se encuentra así para derivar más facil:\n",
    "\n",
    "$$\n",
    "J(\\beta_0, \\beta_1) = \\frac{1}{2m} \\sum_{i=1}^{m} \\left( \\hat{y}_i - y_i \\right)^2\n",
    "$$\n",
    "\n",
    "donde :\n",
    "$$\n",
    "\\hat{y}_i = \\beta_0 + \\beta_1 x_i\n",
    "$$\n",
    "Ya que las derivadas quedan así:\n",
    "\n",
    "$$ \n",
    "\\frac{\\partial J}{\\partial \\beta_0} = \\frac{1}{m} \\sum_{i=1}^{m} \\left( \\hat{y}_i - y_i \\right)\n",
    "$$\n",
    "$$\n",
    "\\frac{\\partial J}{\\partial \\beta_1} = \\frac{1}{m} \\sum_{i=1}^{m} \\left( \\hat{y}_i - y_i \\right) x_i\n",
    "$$"
   ]
  },
  {
   "cell_type": "markdown",
   "id": "b8974ed6",
   "metadata": {},
   "source": [
    "### c)\n",
    "En lugar de calcular el costo con todos los datos como en el MSE clásico, en SGD se toma un único ejemplo (o un mini-lote) en cada paso.\n",
    "\n",
    "Ofrece:\n",
    "\n",
    "1. Mayor velocidad en datasets grandes: no necesita calcular el costo y gradiente sobre todos los datos en cada iteración, solo sobre un ejemplo.\n",
    "\n",
    "2. Puede escapar de mínimos locales gracias al ruido que introduce la actualización estocástica.\n",
    "\n",
    "3. Actualizaciones más frecuentes → converge más rápido en la práctica (aunque con más oscilación).\n",
    "\n",
    "4. Permite trabajar con datasets muy grandes o en streaming, donde no podés cargar todo en memoria."
   ]
  },
  {
   "cell_type": "markdown",
   "id": "228e06fa",
   "metadata": {},
   "source": [
    "#### d) \n",
    "Utilice la técnica de descenso de gradiente estocástico para obtener los coeficientes de la recta de\n",
    "regresión que permita predecir el tiempo promedio que un corredor tardará en recorrer la distancia\n",
    "fija a partir de las horas de entrenamiento semanales."
   ]
  },
  {
   "cell_type": "code",
   "execution_count": 10,
   "id": "28fda29b",
   "metadata": {},
   "outputs": [
    {
     "name": "stdout",
     "output_type": "stream",
     "text": [
      "Predicción para 9 horas de entrenamiento sin estandarizar: 21.025941162243306\n"
     ]
    }
   ],
   "source": [
    "from sklearn.preprocessing import StandardScaler\n",
    "import numpy as np\n",
    "\n",
    "# Podemos estandarizar o no las variables pero para visualizarlo despues mejor no lo hacemos\n",
    "# X = (\n",
    "#     StandardScaler()\n",
    "#     .fit_transform(df[\"Horas de Entrenamiento\"].to_numpy(dtype=float).reshape(-1, 1))\n",
    "#     .ravel()\n",
    "# )\n",
    "# y = (\n",
    "#     StandardScaler()\n",
    "#     .fit_transform(df[\"Tiempo Promedio (min)\"].to_numpy(dtype=float).reshape(-1, 1))\n",
    "#     .ravel()\n",
    "# )\n",
    "X = df[\"Horas de Entrenamiento\"].to_numpy(dtype=float)\n",
    "y = df[\"Tiempo Promedio (min)\"].to_numpy(dtype=float)\n",
    "\n",
    "learning = 0.0005\n",
    "epochs = 5000\n",
    "# b0 es la ordenada al origen y b1 la pendiente de la recta de regresion lineal simple\n",
    "b0, b1 = 0.0, 0.0\n",
    "\n",
    "rng = np.random.default_rng(42)\n",
    "\n",
    "for epoch in range(epochs):\n",
    "    # ACÁ SE DA LO DE LOS MINILOTES, TOMAMOS UNA PERMUTACION RANDOM DE LAS VARAIABLES PARA CALCULAR ERROR\n",
    "    indicies = rng.permutation(len(X))\n",
    "    for i in indicies:\n",
    "        xi = X[i]\n",
    "        yi = y[i]\n",
    "        # Predicción de una variable actual\n",
    "        y_pred = b0 + b1 * xi\n",
    "        error = y_pred - yi\n",
    "        # Actualizacion de ordenada al origen y pendiente\n",
    "        b0 -= learning * error\n",
    "        b1 -= learning * error * xi\n",
    "\n",
    "# Punto de e)\n",
    "X = 9\n",
    "predict = b0 + b1 * X\n",
    "print(\"Predicción para 9 horas de entrenamiento sin estandarizar:\", predict)"
   ]
  },
  {
   "cell_type": "markdown",
   "id": "98329a6f",
   "metadata": {},
   "source": [
    "# Ejercicio 4\n",
    "El archivo ccpp.csv contiene 9568 datos de una central de ciclo combinado recolectados entre 2006 y 2011.\n",
    "Usando la totalidad de los ejemplos se entrenaron 5 combinadores lineales con el objetivo de predecir el\n",
    "valor del atributo PE correspondiente a la cantidad de energía producida a partir del atributo AT (más\n",
    "detalles de este conjunto de datos aquí). Indique cuáles son los dos combinadores lineales con menor error\n",
    "cuadrático promedio a la hora de predecir el valor de PE en función de AT:\n",
    "\n",
    "a) W = -2.00 ; b= 500\n",
    "\n",
    "b) W = -2.21 ; b= 498\n",
    "\n",
    "c) W = -2.30 ; b= 497\n",
    "\n",
    "d) W = -2.22 ; b=496.5\n",
    "\n",
    "e) W = -2.16 ; b=496.91\n",
    "\n",
    "![alt text](image-3.png)\n"
   ]
  },
  {
   "cell_type": "code",
   "execution_count": 11,
   "id": "f9fb0738",
   "metadata": {},
   "outputs": [
    {
     "name": "stdout",
     "output_type": "stream",
     "text": [
      "a) W=-2.0, b=500 -> MSE=71.1626\n",
      "b) W=-2.21, b=498 -> MSE=29.5571\n",
      "c) W=-2.3, b=497 -> MSE=36.9194\n",
      "d) W=-2.22, b=496.5 -> MSE=31.7856\n",
      "e) W=-2.16, b=496.91 -> MSE=29.4485\n",
      "\n",
      "Los dos combinadores con menor MSE son:\n",
      "e) W=-2.16, b=496.91 -> MSE=29.4485\n",
      "b) W=-2.21, b=498 -> MSE=29.5571\n"
     ]
    }
   ],
   "source": [
    "import pandas as pd\n",
    "import numpy as np\n",
    "from ClassNeuronaLineal import NeuronaLineal\n",
    "\n",
    "df = pd.read_csv(\"csv/CCPP.csv\")\n",
    "X = df[[\"AT\"]].values  \n",
    "y = df[\"PE\"].values\n",
    "\n",
    "parametros = [\n",
    "    (\"a\", -2.00, 500),\n",
    "    (\"b\", -2.21, 498),\n",
    "    (\"c\", -2.30, 497),\n",
    "    (\"d\", -2.22, 496.5),\n",
    "    (\"e\", -2.16, 496.91),\n",
    "]\n",
    "\n",
    "resultados = []\n",
    "for nombre, W, b in parametros:\n",
    "    neurona = NeuronaLineal()\n",
    "    neurona.w_ = np.array([W], dtype=float)\n",
    "    neurona.b_ = float(b)\n",
    "    y_pred = neurona.predict(X)\n",
    "    mse = np.mean((y_pred - y) ** 2)\n",
    "    resultados.append((nombre, W, b, mse))\n",
    "    print(f\"{nombre}) W={W}, b={b} -> MSE={mse:.4f}\")\n",
    "\n",
    "resultados.sort(key=lambda t: t[3])\n",
    "print(\"\\nLos dos combinadores con menor MSE son:\")\n",
    "for r in resultados[:2]:\n",
    "    print(f\"{r[0]}) W={r[1]}, b={r[2]} -> MSE={r[3]:.4f}\")\n"
   ]
  },
  {
   "cell_type": "markdown",
   "id": "a9426a34",
   "metadata": {},
   "source": [
    "# Ejercicio 5\n",
    "A partir de los ejemplos del archivo automobile-simple.csv, utilizado en la práctica anterior, se entrenará\n",
    "un combinador lineal para predecir el precio del auto (atributo “price”) en función del tamaño del motor\n",
    "(atributo “engine-size”):\n",
    "\n",
    "a) Antes de comenzar con el entrenamiento, complete los datos faltantes del atributo “price” utilizando\n",
    "el valor promedio.\n",
    "\n",
    "b) Luego de completar según lo indicado en a), realice el entrenamiento del combinador lineal:\n",
    "\n",
    "i. Sin normalizar los atributos.\n",
    "\n",
    "ii. Normalizando ambos atributos linealmente.\n",
    "\n",
    "iii. Normalizando ambos atributos utilizando media y desvío.\n",
    "\n",
    "Analice el impacto de la normalización en el entrenamiento. ¿Qué resultados obtuvo sin normalizar los\n",
    "atributos? ¿Alguna de las normalizaciones es mejor? Explique.\n",
    "\n"
   ]
  },
  {
   "cell_type": "code",
   "execution_count": 27,
   "id": "25e254ba",
   "metadata": {},
   "outputs": [
    {
     "name": "stderr",
     "output_type": "stream",
     "text": [
      "C:\\Users\\frank\\AppData\\Local\\Temp\\ipykernel_7900\\155432527.py:2: FutureWarning: A value is trying to be set on a copy of a DataFrame or Series through chained assignment using an inplace method.\n",
      "The behavior will change in pandas 3.0. This inplace method will never work because the intermediate object on which we are setting values always behaves as a copy.\n",
      "\n",
      "For example, when doing 'df[col].method(value, inplace=True)', try using 'df.method({col: value}, inplace=True)' or df[col] = df[col].method(value) instead, to perform the operation inplace on the original object.\n",
      "\n",
      "\n",
      "  df['price'].fillna(df['price'].mean(), inplace=True)\n"
     ]
    },
    {
     "name": "stdout",
     "output_type": "stream",
     "text": [
      "Neurona entrenada: W=106.70895737623778, b=-269.2076423527016 -> MSE=21299342.3977\n",
      "Neurona entrenada: W=0.8587734114540405, b=-0.004416692239300282 -> MSE=0.2574\n",
      "Neurona entrenada: W=1.066162732527736, b=-0.065368629923976 -> MSE=0.0098\n"
     ]
    }
   ],
   "source": [
    "df = pd.read_csv(\"csv/automobile-simple.csv\")\n",
    "df['price'].fillna(df['price'].mean(), inplace=True)\n",
    "\n",
    "from sklearn.preprocessing import StandardScaler, MinMaxScaler\n",
    "def train_and_get_error(X, y, alpha=0.001, n_iter=2000):\n",
    "    neurona = NeuronaLineal(alpha=alpha, n_iter=n_iter, draw=0)\n",
    "    neurona.fit(X, y)\n",
    "    y_pred = neurona.predict(X)\n",
    "    mse = np.mean((y_pred - y) ** 2)\n",
    "    return neurona, mse\n",
    "\n",
    "# Sin normalizar\n",
    "X = df[['engine-size']].to_numpy(dtype=np.float64)\n",
    "y = df['price'].to_numpy(dtype=np.float64).reshape(-1, 1).ravel()\n",
    "neurona, mse = train_and_get_error(X, y, alpha=1e-6, n_iter=2000)\n",
    "print(f\"Neurona entrenada: W={neurona.w_[0]}, b={neurona.b_} -> MSE={mse:.4f}\")\n",
    "\n",
    "scaler = StandardScaler()\n",
    "X = scaler.fit_transform(df[['engine-size']].to_numpy(dtype=float))\n",
    "y = scaler.fit_transform(df['price'].to_numpy(dtype=float).reshape(-1, 1)).ravel()\n",
    "neurona, mse = train_and_get_error(X, y)\n",
    "print(f\"Neurona entrenada: W={neurona.w_[0]}, b={neurona.b_} -> MSE={mse:.4f}\")\n",
    "\n",
    "scaler = MinMaxScaler()\n",
    "X = scaler.fit_transform(df[['engine-size']].to_numpy(dtype=float))\n",
    "y = scaler.fit_transform(df['price'].to_numpy(dtype=float).reshape(-1, 1)).ravel()\n",
    "neurona, mse = train_and_get_error(X, y)\n",
    "print(f\"Neurona entrenada: W={neurona.w_[0]}, b={neurona.b_} -> MSE={mse:.4f}\")\n"
   ]
  },
  {
   "cell_type": "markdown",
   "id": "c811ce56",
   "metadata": {},
   "source": [
    "Básicamente sin normalizar cae en un minimo local y tiene terrible error, además tengo que usar un alpha muy pequeño porque sino me revienta el codigo.\n",
    "Normalizado funciona mejor."
   ]
  },
  {
   "cell_type": "code",
   "execution_count": null,
   "id": "f239ed78",
   "metadata": {},
   "outputs": [],
   "source": []
  }
 ],
 "metadata": {
  "kernelspec": {
   "display_name": "venv",
   "language": "python",
   "name": "python3"
  },
  "language_info": {
   "codemirror_mode": {
    "name": "ipython",
    "version": 3
   },
   "file_extension": ".py",
   "mimetype": "text/x-python",
   "name": "python",
   "nbconvert_exporter": "python",
   "pygments_lexer": "ipython3",
   "version": "3.13.5"
  }
 },
 "nbformat": 4,
 "nbformat_minor": 5
}
