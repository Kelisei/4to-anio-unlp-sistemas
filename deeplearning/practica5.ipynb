{
 "cells": [
  {
   "attachments": {
    "image.png": {
     "image/png": "[encoded data removed]"
    }
   },
   "cell_type": "markdown",
   "id": "91b031bd",
   "metadata": {},
   "source": [
    "### Ejercicio 1\n",
    "\n",
    "La base de datos **MNIST** contiene imágenes de 28×28, en escala de grises, de números escritos a mano.  \n",
    "Está conformada por **60.000 ejemplos de entrenamiento** y **10.000 ejemplos de prueba**.\n",
    "\n",
    "![image.png](attachment:image.png)\n",
    "\n",
    "Para cargar las imágenes utilice:\n",
    "\n",
    "```python\n",
    "from tensorflow.keras.datasets import mnist\n",
    "(X_train, y_train), (X_test, y_test) = mnist.load_data()\n",
    "```\n",
    "\n",
    "Puede visualizar una imagen utilizando:\n",
    "\n",
    "```py\n",
    "nImg = 0  # nro. de imagen a visualizar\n",
    "plt.imshow(X_train[0, :, :], cmap='gray')\n",
    "```\n",
    "## a)\n",
    "\n",
    "Con el conjunto de 60.000 imágenes, entrene una red neuronal convolucional (CNN) para predecir el dígito presente en la imagen.\n",
    "Recuerde normalizar los valores de cada imagen.\n",
    "Salve el modelo para recuperarlo después.\n",
    "\n",
    "## b)\n",
    "\n",
    "Levante el modelo guardado en el punto anterior y utilice la clase DrawPanel del módulo utils.images \n",
    "de la carpeta fuentes para generar un dibujo escrito a mano de un dígito y predecir la clase a la que pertenece."
   ]
  },
  {
   "cell_type": "code",
   "execution_count": 5,
   "id": "1d113d7a",
   "metadata": {},
   "outputs": [
    {
     "name": "stdout",
     "output_type": "stream",
     "text": [
      "Cantidad de imágenes de entrenamiento: 60000\n",
      "Cantidad de imágenes de prueba: 10000\n",
      "Forma de una imagen: (28, 28)\n",
      "Cantidad de clases objetivo: 10\n"
     ]
    }
   ],
   "source": [
    "from keras.datasets import mnist\n",
    "from keras.utils import to_categorical\n",
    "import numpy as np\n",
    "# Cargar y normalizar el conjunto de datos MNIST\n",
    "(X_train, Y_train), (X_test, Y_test) = mnist.load_data()\n",
    "\n",
    "Y_train= to_categorical(np.array(Y_train))\n",
    "Y_test = to_categorical(np.array(Y_test))\n",
    "IMG_SHAPE = X_train[0].shape\n",
    "TARGET_CNT= len(Y_train[0])\n",
    "\n",
    "print(\"Cantidad de imágenes de entrenamiento:\", len(X_train))\n",
    "print(\"Cantidad de imágenes de prueba:\", len(X_test))\n",
    "print(\"Forma de una imagen:\", IMG_SHAPE)\n",
    "print(\"Cantidad de clases objetivo:\", TARGET_CNT)\n",
    "\n",
    "X_train = X_train / 255\n",
    "X_test  = X_test  / 255\n",
    "\n",
    "X_train = X_train.reshape(X_train.shape[0], 28, 28, 1)\n",
    "X_test  = X_test.reshape(X_test.shape[0], 28, 28, 1)"
   ]
  },
  {
   "cell_type": "code",
   "execution_count": 6,
   "id": "f4e29a68",
   "metadata": {},
   "outputs": [
    {
     "name": "stdout",
     "output_type": "stream",
     "text": [
      "Epoch 1/10\n",
      "\u001b[1m375/375\u001b[0m \u001b[32m━━━━━━━━━━━━━━━━━━━━\u001b[0m\u001b[37m\u001b[0m \u001b[1m2s\u001b[0m 4ms/step - accuracy: 0.8966 - loss: 0.3368 - val_accuracy: 0.9759 - val_loss: 0.0806\n",
      "Epoch 2/10\n",
      "\u001b[1m375/375\u001b[0m \u001b[32m━━━━━━━━━━━━━━━━━━━━\u001b[0m\u001b[37m\u001b[0m \u001b[1m1s\u001b[0m 3ms/step - accuracy: 0.9659 - loss: 0.1148 - val_accuracy: 0.9843 - val_loss: 0.0567\n",
      "Epoch 3/10\n",
      "\u001b[1m375/375\u001b[0m \u001b[32m━━━━━━━━━━━━━━━━━━━━\u001b[0m\u001b[37m\u001b[0m \u001b[1m1s\u001b[0m 3ms/step - accuracy: 0.9748 - loss: 0.0837 - val_accuracy: 0.9862 - val_loss: 0.0495\n",
      "Epoch 4/10\n",
      "\u001b[1m375/375\u001b[0m \u001b[32m━━━━━━━━━━━━━━━━━━━━\u001b[0m\u001b[37m\u001b[0m \u001b[1m1s\u001b[0m 3ms/step - accuracy: 0.9786 - loss: 0.0713 - val_accuracy: 0.9865 - val_loss: 0.0486\n",
      "Epoch 5/10\n",
      "\u001b[1m375/375\u001b[0m \u001b[32m━━━━━━━━━━━━━━━━━━━━\u001b[0m\u001b[37m\u001b[0m \u001b[1m1s\u001b[0m 3ms/step - accuracy: 0.9826 - loss: 0.0584 - val_accuracy: 0.9881 - val_loss: 0.0409\n",
      "Epoch 6/10\n",
      "\u001b[1m375/375\u001b[0m \u001b[32m━━━━━━━━━━━━━━━━━━━━\u001b[0m\u001b[37m\u001b[0m \u001b[1m1s\u001b[0m 3ms/step - accuracy: 0.9841 - loss: 0.0520 - val_accuracy: 0.9891 - val_loss: 0.0397\n",
      "Epoch 7/10\n",
      "\u001b[1m375/375\u001b[0m \u001b[32m━━━━━━━━━━━━━━━━━━━━\u001b[0m\u001b[37m\u001b[0m \u001b[1m1s\u001b[0m 3ms/step - accuracy: 0.9859 - loss: 0.0449 - val_accuracy: 0.9893 - val_loss: 0.0384\n",
      "Epoch 8/10\n",
      "\u001b[1m375/375\u001b[0m \u001b[32m━━━━━━━━━━━━━━━━━━━━\u001b[0m\u001b[37m\u001b[0m \u001b[1m1s\u001b[0m 3ms/step - accuracy: 0.9872 - loss: 0.0427 - val_accuracy: 0.9893 - val_loss: 0.0400\n",
      "Epoch 9/10\n",
      "\u001b[1m375/375\u001b[0m \u001b[32m━━━━━━━━━━━━━━━━━━━━\u001b[0m\u001b[37m\u001b[0m \u001b[1m1s\u001b[0m 3ms/step - accuracy: 0.9890 - loss: 0.0352 - val_accuracy: 0.9884 - val_loss: 0.0431\n",
      "Epoch 10/10\n",
      "\u001b[1m375/375\u001b[0m \u001b[32m━━━━━━━━━━━━━━━━━━━━\u001b[0m\u001b[37m\u001b[0m \u001b[1m1s\u001b[0m 3ms/step - accuracy: 0.9891 - loss: 0.0330 - val_accuracy: 0.9903 - val_loss: 0.0376\n",
      "\u001b[1m313/313\u001b[0m \u001b[32m━━━━━━━━━━━━━━━━━━━━\u001b[0m\u001b[37m\u001b[0m \u001b[1m0s\u001b[0m 909us/step - accuracy: 0.9914 - loss: 0.0281\n",
      "Precisión en el conjunto de prueba: 0.9914000034332275\n"
     ]
    }
   ],
   "source": [
    "# Entrentar red convulucional\n",
    "import keras\n",
    "from keras.models import Sequential\n",
    "from keras.layers import Conv2D, MaxPooling2D, Flatten, Dense, Dropout\n",
    "from keras.optimizers import Adam\n",
    "\n",
    "model = Sequential()\n",
    "model.add(Conv2D(32, kernel_size=(3, 3), activation='relu', input_shape=(28, 28, 1))) # Usamos esto porque las imágenes son en escala de grises\n",
    "model.add(MaxPooling2D(pool_size=(2, 2))) # Reducimos la dimensionalidad para disminuir el costo computacional\n",
    "model.add(Conv2D(64, kernel_size=(3, 3), activation='relu')) # Segunda capa convolucional para extraer características más complejas\n",
    "model.add(MaxPooling2D(pool_size=(2, 2)))    # Otra capa de pooling para seguir reduciendo la dimensionalidad\n",
    "model.add(Flatten()) # Aplanamos las matrices 2D a un vector 1D para conectarlo a la capa densa\n",
    "model.add(Dense(128, activation='relu')) # Capa densa con 128 neuronas y función de activación ReLU para introducir no linealidad\n",
    "model.add(Dropout(0.5)) # Capa de dropout para prevenir el sobreajuste\n",
    "model.add(Dense(TARGET_CNT, activation='softmax')) # Capa de salida con función de activación softmax para clasificación multiclase\n",
    "\n",
    "# Terminar antes si la precisión de validación no mejora en 3 épocas consecutivas\n",
    "\n",
    "cb = keras.callbacks.EarlyStopping(monitor='val_accuracy', patience=3, restore_best_weights=True)\n",
    "\n",
    "\n",
    "adam = Adam(learning_rate=0.001)\n",
    "model.compile(optimizer=adam, loss='categorical_crossentropy', metrics=['accuracy'])\n",
    "\n",
    "\n",
    "model.fit(X_train, Y_train, epochs=10, batch_size=128, validation_split=0.2, callbacks=[cb])\n",
    "\n",
    "# Evaluar el modelo\n",
    "test_loss, test_acc = model.evaluate(X_test, Y_test)\n",
    "print('Precisión en el conjunto de prueba:', test_acc)"
   ]
  },
  {
   "cell_type": "code",
   "execution_count": 10,
   "id": "d9aea1f6",
   "metadata": {},
   "outputs": [
    {
     "name": "stdout",
     "output_type": "stream",
     "text": [
      "\u001b[1m1/1\u001b[0m \u001b[32m━━━━━━━━━━━━━━━━━━━━\u001b[0m\u001b[37m\u001b[0m \u001b[1m0s\u001b[0m 16ms/step\n",
      "El dígito predicho es: 8\n"
     ]
    }
   ],
   "source": [
    "# Levante el modelo guardado en el punto anterior y utilice la clase DrawPanel del módulo utils.images \n",
    "# de la carpeta fuentes para generar un dibujo escrito a mano de un dígito y predecir la clase a la que pertenece.\n",
    "\n",
    "import utils as img_utils\n",
    "drawn_image = img_utils.DrawPanel(width=200, height=200)\n",
    "drawn_image.show()\n",
    "# Obtener la imagen dibujada, preprocesarla y hacer la predicción\n",
    "image = drawn_image.get_image()\n",
    "image = image.resize((28, 28)).convert('L')  # Redimensionar y convertir a escala de grises\n",
    "image_array = np.array(image) / 255.0  # Normalizar\n",
    "image_array = image_array.reshape(1, 28, 28, 1)  # Ajustar la forma para el modelo\n",
    "prediction = model.predict(image_array)\n",
    "predicted_class = np.argmax(prediction)\n",
    "print(\"El dígito predicho es:\", predicted_class)"
   ]
  }
 ],
 "metadata": {
  "kernelspec": {
   "display_name": ".venv",
   "language": "python",
   "name": "python3"
  },
  "language_info": {
   "codemirror_mode": {
    "name": "ipython",
    "version": 3
   },
   "file_extension": ".py",
   "mimetype": "text/x-python",
   "name": "python",
   "nbconvert_exporter": "python",
   "pygments_lexer": "ipython3",
   "version": "3.13.5"
  }
 },
 "nbformat": 4,
 "nbformat_minor": 5
}
